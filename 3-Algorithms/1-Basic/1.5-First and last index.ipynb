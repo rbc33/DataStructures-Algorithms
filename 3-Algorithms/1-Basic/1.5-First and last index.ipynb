{
 "cells": [
  {
   "cell_type": "markdown",
   "metadata": {
    "graffitiCellId": "id_pr3r54a"
   },
   "source": [
    "## Problem statement\n",
    "\n",
    "Given a sorted array that may have duplicate values, use *binary search* to find the **first** and **last** indexes of a given value.\n",
    "\n",
    "For example, if you have the array `[0, 1, 2, 2, 3, 3, 3, 4, 5, 6]` and the given value is `3`, the answer will be `[4, 6]` (because the value `3` occurs first at index `4` and last at index `6` in the array).\n",
    "\n",
    "The expected complexity of the problem is $O(log(n))$."
   ]
  },
  {
   "cell_type": "code",
   "execution_count": 28,
   "metadata": {
    "graffitiCellId": "id_stslkm6"
   },
   "outputs": [],
   "source": [
    "def first_and_last_index(arr, number, left=0, right=0):\n",
    "    \"\"\"\n",
    "    Given a sorted array that may have duplicate values, use binary \n",
    "    search to find the first and last indexes of a given value.\n",
    "\n",
    "    Args:\n",
    "        arr(list): Sorted array (or Python list) that may have duplicate values\n",
    "        number(int): Value to search for in the array\n",
    "    Returns:\n",
    "        a list containing the first and last indexes of the given value\n",
    "    \"\"\"\n",
    "        \n",
    "    # TODO: Write your first_and_last function here\n",
    "    # Note that you may want to write helper functions to find the start \n",
    "    # index and the end index\n",
    "    i = (len(arr)-1)//2\n",
    "    indexes = []\n",
    "    if arr[i-left] == number:\n",
    "        if i == 1 or arr[i-1] != number:\n",
    "            indexes.append(i-left)\n",
    "        return first_and_last_index(arr, number, left+1)   \n",
    "    if i == len(arr)-1 or arr[i+ right] == number:\n",
    "        if arr[i+1] != number:\n",
    "            indexes.append(i+ right)\n",
    "        return first_and_last_index(arr, number, 0, right+1)\n",
    "    if arr[i] > number: return first_and_last_index(arr[:i]) \n",
    "    if arr[i] < number: return first_and_last_index(arr[i+1:]) \n",
    "\n",
    "       \n",
    "    pass"
   ]
  },
  {
   "cell_type": "markdown",
   "metadata": {
    "graffitiCellId": "id_y3lxp1x"
   },
   "source": [
    "<span class=\"graffiti-highlight graffiti-id_y3lxp1x-id_fkngaks\"><i></i><button>Hide Solution</button></span>"
   ]
  },
  {
   "cell_type": "code",
   "execution_count": 18,
   "metadata": {
    "graffitiCellId": "id_fkngaks"
   },
   "outputs": [],
   "source": [
    "def first_and_last_index(arr, number):\n",
    "    # search first occurence\n",
    "    first_index = find_start_index(arr, number, 0, len(arr) - 1)\n",
    "    \n",
    "    # search last occurence\n",
    "    last_index =  find_end_index(arr, number, 0, len(arr) - 1)\n",
    "    return [first_index, last_index]\n",
    "\n",
    "\n",
    "def find_start_index(arr, number, start_index, end_index):\n",
    "    # binary search solution to search for the first index of the array\n",
    "    if start_index > end_index:\n",
    "        return -1\n",
    "\n",
    "    mid_index = start_index + (end_index - start_index)//2\n",
    "\n",
    "    if arr[mid_index] == number:\n",
    "        current_start_pos = find_start_index(arr, number, start_index, mid_index - 1)\n",
    "        if current_start_pos != -1:\n",
    "            start_pos = current_start_pos\n",
    "        else:\n",
    "            start_pos = mid_index\n",
    "        return start_pos\n",
    "\n",
    "    elif arr[mid_index] < number:\n",
    "        return find_start_index(arr, number, mid_index + 1, end_index)\n",
    "    else:\n",
    "        return find_start_index(arr, number, start_index, mid_index - 1)\n",
    "\n",
    "\n",
    "def find_end_index(arr, number, start_index, end_index):\n",
    "    # binary search solution to search for the last index of the array\n",
    "    if start_index > end_index:\n",
    "        return  -1\n",
    "\n",
    "    mid_index = start_index + (end_index - start_index)//2\n",
    "\n",
    "    if arr[mid_index] == number:\n",
    "        current_end_pos = find_end_index(arr, number, mid_index + 1, end_index)\n",
    "        if current_end_pos != -1:\n",
    "            end_pos = current_end_pos\n",
    "        else:\n",
    "            end_pos = mid_index\n",
    "        return end_pos\n",
    "    elif arr[mid_index] < number:\n",
    "        return find_end_index(arr, number, mid_index + 1, end_index)\n",
    "    else:\n",
    "        return find_end_index(arr, number, start_index, mid_index - 1)\n"
   ]
  },
  {
   "cell_type": "markdown",
   "metadata": {
    "graffitiCellId": "id_ii2o0tq"
   },
   "source": [
    "Below are several different test cases you can use to check your solution."
   ]
  },
  {
   "cell_type": "code",
   "execution_count": 19,
   "metadata": {
    "graffitiCellId": "id_a8bxvyg"
   },
   "outputs": [],
   "source": [
    "def test_function(test_case):\n",
    "    input_list = test_case[0]\n",
    "    number = test_case[1]\n",
    "    solution = test_case[2]\n",
    "    output = first_and_last_index(input_list, number)\n",
    "    if output == solution:\n",
    "        print(\"Pass\")\n",
    "    else:\n",
    "        print(\"Fail\")"
   ]
  },
  {
   "cell_type": "code",
   "execution_count": 29,
   "metadata": {
    "graffitiCellId": "id_20phd4q"
   },
   "outputs": [
    {
     "ename": "IndexError",
     "evalue": "list index out of range",
     "output_type": "error",
     "traceback": [
      "\u001b[31m---------------------------------------------------------------------------\u001b[39m",
      "\u001b[31mIndexError\u001b[39m                                Traceback (most recent call last)",
      "\u001b[36mCell\u001b[39m\u001b[36m \u001b[39m\u001b[32mIn[29]\u001b[39m\u001b[32m, line 5\u001b[39m\n\u001b[32m      3\u001b[39m solution = [\u001b[32m0\u001b[39m, \u001b[32m0\u001b[39m]\n\u001b[32m      4\u001b[39m test_case_1 = [input_list, number, solution]\n\u001b[32m----> \u001b[39m\u001b[32m5\u001b[39m \u001b[43mtest_function\u001b[49m\u001b[43m(\u001b[49m\u001b[43mtest_case_1\u001b[49m\u001b[43m)\u001b[49m\n",
      "\u001b[36mCell\u001b[39m\u001b[36m \u001b[39m\u001b[32mIn[19]\u001b[39m\u001b[32m, line 5\u001b[39m, in \u001b[36mtest_function\u001b[39m\u001b[34m(test_case)\u001b[39m\n\u001b[32m      3\u001b[39m number = test_case[\u001b[32m1\u001b[39m]\n\u001b[32m      4\u001b[39m solution = test_case[\u001b[32m2\u001b[39m]\n\u001b[32m----> \u001b[39m\u001b[32m5\u001b[39m output = \u001b[43mfirst_and_last_index\u001b[49m\u001b[43m(\u001b[49m\u001b[43minput_list\u001b[49m\u001b[43m,\u001b[49m\u001b[43m \u001b[49m\u001b[43mnumber\u001b[49m\u001b[43m)\u001b[49m\n\u001b[32m      6\u001b[39m \u001b[38;5;28;01mif\u001b[39;00m output == solution:\n\u001b[32m      7\u001b[39m     \u001b[38;5;28mprint\u001b[39m(\u001b[33m\"\u001b[39m\u001b[33mPass\u001b[39m\u001b[33m\"\u001b[39m)\n",
      "\u001b[36mCell\u001b[39m\u001b[36m \u001b[39m\u001b[32mIn[28]\u001b[39m\u001b[32m, line 21\u001b[39m, in \u001b[36mfirst_and_last_index\u001b[39m\u001b[34m(arr, number, left, right)\u001b[39m\n\u001b[32m     19\u001b[39m     \u001b[38;5;28;01mif\u001b[39;00m i == \u001b[32m1\u001b[39m \u001b[38;5;129;01mor\u001b[39;00m arr[i-\u001b[32m1\u001b[39m] != number:\n\u001b[32m     20\u001b[39m         indexes.append(i-left)\n\u001b[32m---> \u001b[39m\u001b[32m21\u001b[39m     \u001b[38;5;28;01mreturn\u001b[39;00m \u001b[43mfirst_and_last_index\u001b[49m\u001b[43m(\u001b[49m\u001b[43marr\u001b[49m\u001b[43m,\u001b[49m\u001b[43m \u001b[49m\u001b[43mnumber\u001b[49m\u001b[43m,\u001b[49m\u001b[43m \u001b[49m\u001b[43mleft\u001b[49m\u001b[43m+\u001b[49m\u001b[32;43m1\u001b[39;49m\u001b[43m)\u001b[49m   \n\u001b[32m     22\u001b[39m \u001b[38;5;28;01mif\u001b[39;00m i == \u001b[38;5;28mlen\u001b[39m(arr)-\u001b[32m1\u001b[39m \u001b[38;5;129;01mor\u001b[39;00m arr[i+ right] == number:\n\u001b[32m     23\u001b[39m     \u001b[38;5;28;01mif\u001b[39;00m arr[i+\u001b[32m1\u001b[39m] != number:\n",
      "\u001b[36mCell\u001b[39m\u001b[36m \u001b[39m\u001b[32mIn[28]\u001b[39m\u001b[32m, line 21\u001b[39m, in \u001b[36mfirst_and_last_index\u001b[39m\u001b[34m(arr, number, left, right)\u001b[39m\n\u001b[32m     19\u001b[39m     \u001b[38;5;28;01mif\u001b[39;00m i == \u001b[32m1\u001b[39m \u001b[38;5;129;01mor\u001b[39;00m arr[i-\u001b[32m1\u001b[39m] != number:\n\u001b[32m     20\u001b[39m         indexes.append(i-left)\n\u001b[32m---> \u001b[39m\u001b[32m21\u001b[39m     \u001b[38;5;28;01mreturn\u001b[39;00m \u001b[43mfirst_and_last_index\u001b[49m\u001b[43m(\u001b[49m\u001b[43marr\u001b[49m\u001b[43m,\u001b[49m\u001b[43m \u001b[49m\u001b[43mnumber\u001b[49m\u001b[43m,\u001b[49m\u001b[43m \u001b[49m\u001b[43mleft\u001b[49m\u001b[43m+\u001b[49m\u001b[32;43m1\u001b[39;49m\u001b[43m)\u001b[49m   \n\u001b[32m     22\u001b[39m \u001b[38;5;28;01mif\u001b[39;00m i == \u001b[38;5;28mlen\u001b[39m(arr)-\u001b[32m1\u001b[39m \u001b[38;5;129;01mor\u001b[39;00m arr[i+ right] == number:\n\u001b[32m     23\u001b[39m     \u001b[38;5;28;01mif\u001b[39;00m arr[i+\u001b[32m1\u001b[39m] != number:\n",
      "\u001b[36mCell\u001b[39m\u001b[36m \u001b[39m\u001b[32mIn[28]\u001b[39m\u001b[32m, line 18\u001b[39m, in \u001b[36mfirst_and_last_index\u001b[39m\u001b[34m(arr, number, left, right)\u001b[39m\n\u001b[32m     16\u001b[39m i = (\u001b[38;5;28mlen\u001b[39m(arr)-\u001b[32m1\u001b[39m)//\u001b[32m2\u001b[39m\n\u001b[32m     17\u001b[39m indexes = []\n\u001b[32m---> \u001b[39m\u001b[32m18\u001b[39m \u001b[38;5;28;01mif\u001b[39;00m \u001b[43marr\u001b[49m\u001b[43m[\u001b[49m\u001b[43mi\u001b[49m\u001b[43m-\u001b[49m\u001b[43mleft\u001b[49m\u001b[43m]\u001b[49m == number:\n\u001b[32m     19\u001b[39m     \u001b[38;5;28;01mif\u001b[39;00m i == \u001b[32m1\u001b[39m \u001b[38;5;129;01mor\u001b[39;00m arr[i-\u001b[32m1\u001b[39m] != number:\n\u001b[32m     20\u001b[39m         indexes.append(i-left)\n",
      "\u001b[31mIndexError\u001b[39m: list index out of range"
     ]
    }
   ],
   "source": [
    "input_list = [1]\n",
    "number = 1\n",
    "solution = [0, 0]\n",
    "test_case_1 = [input_list, number, solution]\n",
    "test_function(test_case_1)"
   ]
  },
  {
   "cell_type": "code",
   "execution_count": 21,
   "metadata": {
    "graffitiCellId": "id_9p3166p"
   },
   "outputs": [
    {
     "name": "stdout",
     "output_type": "stream",
     "text": [
      "Pass\n"
     ]
    }
   ],
   "source": [
    "input_list = [0, 1, 2, 3, 3, 3, 3, 4, 5, 6]\n",
    "number = 3\n",
    "solution = [3, 6]\n",
    "test_case_2 = [input_list, number, solution]\n",
    "test_function(test_case_2)"
   ]
  },
  {
   "cell_type": "code",
   "execution_count": 22,
   "metadata": {
    "graffitiCellId": "id_pcvcepp"
   },
   "outputs": [
    {
     "name": "stdout",
     "output_type": "stream",
     "text": [
      "Pass\n"
     ]
    }
   ],
   "source": [
    "input_list = [0, 1, 2, 3, 4, 5]\n",
    "number = 5\n",
    "solution = [5, 5]\n",
    "test_case_3 = [input_list, number, solution]\n",
    "test_function(test_case_3)"
   ]
  },
  {
   "cell_type": "code",
   "execution_count": 23,
   "metadata": {
    "graffitiCellId": "id_cz075rp"
   },
   "outputs": [
    {
     "name": "stdout",
     "output_type": "stream",
     "text": [
      "Pass\n"
     ]
    }
   ],
   "source": [
    "input_list = [0, 1, 2, 3, 4, 5]\n",
    "number = 6\n",
    "solution = [-1, -1]\n",
    "test_case_4 = [input_list, number, solution]\n",
    "test_function(test_case_4)"
   ]
  }
 ],
 "metadata": {
  "graffiti": {
   "firstAuthorId": "dev",
   "id": "id_qwr7xir",
   "language": "EN"
  },
  "kernelspec": {
   "display_name": "Python 3",
   "language": "python",
   "name": "python3"
  },
  "language_info": {
   "codemirror_mode": {
    "name": "ipython",
    "version": 3
   },
   "file_extension": ".py",
   "mimetype": "text/x-python",
   "name": "python",
   "nbconvert_exporter": "python",
   "pygments_lexer": "ipython3",
   "version": "3.11.6"
  }
 },
 "nbformat": 4,
 "nbformat_minor": 2
}
