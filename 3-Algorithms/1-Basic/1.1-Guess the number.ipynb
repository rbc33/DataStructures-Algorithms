{
 "cells": [
  {
   "cell_type": "markdown",
   "metadata": {},
   "source": [
    "# Guess the number\n",
    "\n",
    "This notebook simulates a classic game where you have to guess a random number from within a certain range. Typically, you might have to guess a number from 1 to 10, and have three guesses to get the right answer.\n",
    "\n",
    "In this case, you'll need to guess a random number between 1 and 100, and you will have 7 tries.\n",
    "\n",
    "Try running it and playing a round or two. Notice that the game always tells you whether your guess was too high or too low. This information allows you to rule out some of the numbers (so that you don't waste time guessing those numbers).\n",
    "\n",
    "With this fact in mind, try to make your guesses in the most efficient way you can. Specifically, try to make guesses that rule out the largest number of possibilities each time."
   ]
  },
  {
   "cell_type": "code",
   "execution_count": 3,
   "metadata": {},
   "outputs": [
    {
     "name": "stdout",
     "output_type": "stream",
     "text": [
      "Oops! That's incorrect\n",
      "Go higher!\n"
     ]
    },
    {
     "ename": "ValueError",
     "evalue": "invalid literal for int() with base 10: ''",
     "output_type": "error",
     "traceback": [
      "\u001b[31m---------------------------------------------------------------------------\u001b[39m",
      "\u001b[31mValueError\u001b[39m                                Traceback (most recent call last)",
      "\u001b[36mCell\u001b[39m\u001b[36m \u001b[39m\u001b[32mIn[3]\u001b[39m\u001b[32m, line 31\u001b[39m\n\u001b[32m     29\u001b[39m start_range = \u001b[32m1\u001b[39m\n\u001b[32m     30\u001b[39m end_range = \u001b[32m100\u001b[39m\n\u001b[32m---> \u001b[39m\u001b[32m31\u001b[39m \u001b[43mguess_the_number\u001b[49m\u001b[43m(\u001b[49m\u001b[43mtotal_tries\u001b[49m\u001b[43m,\u001b[49m\u001b[43m \u001b[49m\u001b[43mstart_range\u001b[49m\u001b[43m,\u001b[49m\u001b[43m \u001b[49m\u001b[43mend_range\u001b[49m\u001b[43m)\u001b[49m\n",
      "\u001b[36mCell\u001b[39m\u001b[36m \u001b[39m\u001b[32mIn[3]\u001b[39m\u001b[32m, line 15\u001b[39m, in \u001b[36mguess_the_number\u001b[39m\u001b[34m(total_tries, start_range, end_range)\u001b[39m\n\u001b[32m     13\u001b[39m num_tries = \u001b[32m0\u001b[39m\n\u001b[32m     14\u001b[39m \u001b[38;5;28;01mwhile\u001b[39;00m num_tries < total_tries:\n\u001b[32m---> \u001b[39m\u001b[32m15\u001b[39m     attempt = \u001b[38;5;28;43mint\u001b[39;49m\u001b[43m(\u001b[49m\u001b[38;5;28;43minput\u001b[39;49m\u001b[43m(\u001b[49m\u001b[33;43m\"\u001b[39;49m\u001b[33;43mGuess the number: \u001b[39;49m\u001b[33;43m\"\u001b[39;49m\u001b[43m)\u001b[49m\u001b[43m)\u001b[49m\n\u001b[32m     17\u001b[39m     \u001b[38;5;28;01mif\u001b[39;00m attempt == random_number:\n\u001b[32m     18\u001b[39m         \u001b[38;5;28mprint\u001b[39m(success_message)\n",
      "\u001b[31mValueError\u001b[39m: invalid literal for int() with base 10: ''"
     ]
    }
   ],
   "source": [
    "import random\n",
    "\n",
    "def guess_the_number(total_tries, start_range, end_range):\n",
    "    if start_range > end_range:\n",
    "        start_range, end_range = end_range, start_range\n",
    "        \n",
    "    random_number = random.randint(start_range, end_range)\n",
    "    try_count = 0\n",
    "    success_message = \"Awesome! You guessed correctly\"\n",
    "    failure_message = \"Sorry! No more retries left\"\n",
    "    miss_message = \"Oops! That's incorrect\"\n",
    "    \n",
    "    num_tries = 0\n",
    "    while num_tries < total_tries:\n",
    "        attempt = int(input(\"Guess the number: \"))\n",
    "        \n",
    "        if attempt == random_number:\n",
    "            print(success_message)\n",
    "            return\n",
    "        print(miss_message)\n",
    "        if attempt < random_number:\n",
    "            print(\"Go higher!\")\n",
    "        else:\n",
    "            print(\"Go lower!\")\n",
    "        num_tries += 1\n",
    "    print(failure_message)\n",
    "\n",
    "total_tries = 7\n",
    "start_range = 1\n",
    "end_range = 100\n",
    "guess_the_number(total_tries, start_range, end_range)"
   ]
  },
  {
   "cell_type": "markdown",
   "metadata": {},
   "source": []
  }
 ],
 "metadata": {
  "kernelspec": {
   "display_name": "Python 3",
   "language": "python",
   "name": "python3"
  },
  "language_info": {
   "codemirror_mode": {
    "name": "ipython",
    "version": 3
   },
   "file_extension": ".py",
   "mimetype": "text/x-python",
   "name": "python",
   "nbconvert_exporter": "python",
   "pygments_lexer": "ipython3",
   "version": "3.11.6"
  }
 },
 "nbformat": 4,
 "nbformat_minor": 2
}
