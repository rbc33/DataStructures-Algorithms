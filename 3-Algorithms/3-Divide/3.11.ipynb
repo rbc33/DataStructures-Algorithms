{
 "cells": [
  {
   "cell_type": "code",
   "execution_count": 10,
   "metadata": {},
   "outputs": [],
   "source": [
    "def maxCrossingSum(arr, start, mid, stop):\n",
    "    leftSum = arr[mid]\n",
    "    leftMaxSum = arr[mid]\n",
    "    for i in range(mid-1, start-1, -1):\n",
    "        leftSum = leftSum + arr[i]\n",
    "        if leftSum > leftMaxSum:\n",
    "            leftMaxSum = leftSum\n",
    "\n",
    "    rightSum = arr[mid+1]\n",
    "    rightMaxSum = arr[mid+1]\n",
    "    for i in range(mid+2, stop+1):\n",
    "        rightSum = rightSum + arr[i]\n",
    "        if rightSum > rightMaxSum:\n",
    "            rightMaxSum = rightSum\n",
    "    return leftMaxSum + rightMaxSum\n",
    "\n",
    "def maxSubArrayRecursive(arr, start, stop):\n",
    "    if start == stop:\n",
    "        return arr[start]\n",
    "    \n",
    "    mid = (stop + start)//2\n",
    "    L = maxSubArrayRecursive(arr, start, mid)\n",
    "    R = maxSubArrayRecursive(arr, mid+1, stop)\n",
    "    C = maxCrossingSum(arr, start, mid, stop)\n",
    "    return max(C, max(L, R))\n",
    "\n",
    "def maxSubArray(arr):\n",
    "    start = 0\n",
    "    stop = len(arr)-1\n",
    "    return maxSubArrayRecursive(arr, start, stop)"
   ]
  },
  {
   "cell_type": "code",
   "execution_count": 11,
   "metadata": {},
   "outputs": [
    {
     "name": "stdout",
     "output_type": "stream",
     "text": [
      "Maximum Sum =  13\n"
     ]
    }
   ],
   "source": [
    "# Test your code\n",
    "arr = [-2, 7, -6, 3, 1, -4, 5, 7] \n",
    "print(\"Maximum Sum = \",maxSubArray(arr))     # Outputs 13"
   ]
  }
 ],
 "metadata": {
  "kernelspec": {
   "display_name": "Python 3",
   "language": "python",
   "name": "python3"
  },
  "language_info": {
   "codemirror_mode": {
    "name": "ipython",
    "version": 3
   },
   "file_extension": ".py",
   "mimetype": "text/x-python",
   "name": "python",
   "nbconvert_exporter": "python",
   "pygments_lexer": "ipython3",
   "version": "3.11.6"
  }
 },
 "nbformat": 4,
 "nbformat_minor": 2
}
