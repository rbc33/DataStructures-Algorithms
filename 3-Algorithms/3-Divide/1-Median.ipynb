{
 "cells": [
  {
   "cell_type": "code",
   "execution_count": 51,
   "metadata": {},
   "outputs": [],
   "source": [
    "def partition(arr, low, high):\n",
    "    pivot = arr[high]  # Elegimos el último elemento como pivote\n",
    "    i = low - 1  # Índice del elemento más pequeño\n",
    "    \n",
    "    for j in range(low, high):\n",
    "        # Si el elemento actual es menor o igual al pivote\n",
    "        if arr[j] <= pivot:\n",
    "            i += 1\n",
    "            arr[i], arr[j] = arr[j], arr[i]\n",
    "    \n",
    "    # Colocamos el pivote en su posición correcta\n",
    "    arr[i + 1], arr[high] = arr[high], arr[i + 1]\n",
    "    return i + 1\n",
    "\n",
    "def quicksort_helper(arr, low, high):\n",
    "    if low < high:\n",
    "        # Encontramos el índice de partición\n",
    "        pi = partition(arr, low, high)\n",
    "        \n",
    "        # Ordenamos los elementos antes y después de la partición\n",
    "        quicksort_helper(arr, low, pi - 1)\n",
    "        quicksort_helper(arr, pi + 1, high)\n",
    "\n",
    "def quicksort(arr):\n",
    "    quicksort_helper(arr, 0, len(arr) - 1)\n"
   ]
  },
  {
   "cell_type": "code",
   "execution_count": 52,
   "metadata": {},
   "outputs": [
    {
     "name": "stdout",
     "output_type": "stream",
     "text": [
      "[1, 7, 31]\n",
      "[4, 7, 8]\n",
      "[2, 2, 14]\n",
      "[2, 7, 12]\n",
      "[4, 6, 7]\n",
      "[1, 7, 31, 7, 8, 4, 2, 14, 2, 7, 12, 2, 4, 7, 6]\n",
      "(2, 2)\n"
     ]
    }
   ],
   "source": [
    "def fastf(arr, k):\n",
    "    g = [[],[],[],[],[]]\n",
    "    if k>len(arr): return arr\n",
    "    for j in range(k):\n",
    "        for i, v in enumerate(arr):\n",
    "            if i in range(len(arr)*j//k, len(arr)*(j+1)//k):\n",
    "                g[j].append(arr[i])\n",
    "    for i in g:\n",
    "        quicksort(i)\n",
    "    return g\n",
    "\n",
    "def median(arr, k):\n",
    "    g = fastf(arr, 5)\n",
    "    m = []\n",
    "    for gi in g:\n",
    "        print(gi)\n",
    "        mi = gi[len(gi)//2]\n",
    "        m.append(mi)\n",
    "    me = m[len(m)//2]\n",
    "    if k > 1:\n",
    "        q = fastf(m, 10)\n",
    "        p = q[len(q)//2]\n",
    "\n",
    "    return p, me\n",
    "\n",
    "\n",
    "\n",
    "\n",
    "arr = [1,7,31,7,8,4,2,14,2,7,12,2,4,7,6]\n",
    "p= median(arr, len(arr))\n",
    "print(arr)\n",
    "print(p)"
   ]
  }
 ],
 "metadata": {
  "kernelspec": {
   "display_name": "Python 3",
   "language": "python",
   "name": "python3"
  },
  "language_info": {
   "codemirror_mode": {
    "name": "ipython",
    "version": 3
   },
   "file_extension": ".py",
   "mimetype": "text/x-python",
   "name": "python",
   "nbconvert_exporter": "python",
   "pygments_lexer": "ipython3",
   "version": "3.11.6"
  }
 },
 "nbformat": 4,
 "nbformat_minor": 2
}
