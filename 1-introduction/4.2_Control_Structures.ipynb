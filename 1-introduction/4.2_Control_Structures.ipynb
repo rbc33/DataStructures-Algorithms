{
 "cells": [
  {
   "cell_type": "markdown",
   "metadata": {},
   "source": [
    "\n",
    "Control Structures Review\n",
    "-------------------------\n",
    "\n",
    "### Iteration with Loops\n",
    "\n",
    "To iterate in Python, there are several options. A `for` loop can be used to iterate through a list or dictionary. Instead of the traditional `for` loop where we initialize a value `i` and increase / decrease it till it reaches an end value, Python's `for` loops are `for-each` in nature. This means that when you are iterating using a `for loop` over a list, you actually iterate over the items of that list.\n",
    "\n",
    "If you also need the index values from the list while iterating, another possibility is to use `enumerate`, which is shown in an example below.\n",
    "\n",
    "An additional way to iterate in Python is with a `while` loop. Just as in other programming languages, the `while` loop will repeat while some conditional statement is true. You will see more on conditional statements shortly, but first, here are examples of iteration with `for` and `while` loops."
   ]
  },
  {
   "cell_type": "code",
   "execution_count": null,
   "metadata": {
    "vscode": {
     "languageId": "plaintext"
    }
   },
   "outputs": [],
   "source": [
    "## Examples of iteration with for loops.\n",
    "\n",
    "my_list = [0, 1, 2, 3, 4, 5]\n",
    "\n",
    "## Print each value in my_list. Note you can use the \"in\" keyword to iterate over a list.\n",
    "for item in my_list:\n",
    "    print('The value of item is: ' + str(item))\n",
    "\n",
    "## Print each index and value pair.\n",
    "for i, value in enumerate(my_list):\n",
    "    print('The index value is: ' + str(i) + '. The value at i is: ' + str(value))\n",
    "\n",
    "## Print each number from 0 to 9 using a while loop.\n",
    "i = 0\n",
    "while(i < 10):\n",
    "    print(i)\n",
    "    i += 1\n",
    "\n",
    "## Print each key and dictionary value. Note that you can use the \"in\" keyword \n",
    "## to iterate over dictionary keys.\n",
    "my_dict = {'a': 'jill', 'b': 'tom', 'c': 'tim'}\n",
    "for key in my_dict:\n",
    "    print(key + ', ' + my_dict[key])\n"
   ]
  },
  {
   "cell_type": "markdown",
   "metadata": {},
   "source": [
    "### Conditional Statements\n",
    "\n",
    "Conditional statements use boolean logic to help guide our decision process: the statement is true or false. These statements are structured using comparison operators: greater than (`>`), less than (`<`), and equal to (`==`).\n",
    "\n",
    "Using conditional statements for control flow is accomplished in Python with the keywords: `if`, `else`, and `elif`. When doing multiple comparisons in Python, one after the other, the first comparison always uses`if` and the last comparison generally uses `else`. If additional control flow is needed, `elif` statements can be used; `elif` stands for \"else if\"."
   ]
  },
  {
   "cell_type": "code",
   "execution_count": null,
   "metadata": {
    "vscode": {
     "languageId": "plaintext"
    }
   },
   "outputs": [],
   "source": [
    "num = 5\n",
    "if num < 5:\n",
    "    print('The number is smaller than 5.')\n",
    "elif num == 5:\n",
    "    print('The number equals 5.')\n",
    "else:\n",
    "    print('The number is greater than 5.')"
   ]
  },
  {
   "cell_type": "markdown",
   "metadata": {},
   "source": [
    "The code above would print: The number equals 5.\n",
    "\n"
   ]
  },
  {
   "cell_type": "markdown",
   "metadata": {},
   "source": [
    "### Control Structure Practice\n",
    "\n",
    "#### Exercise 1: Smallest Positive\n",
    "\n",
    "Finish writing `smallest_positive` which is a function that finds the smallest positive number in a list.\n",
    "\n",
    "#### Exercise 2: When Offered\n",
    "\n",
    "Assume you are planning to take additional courses at your local educational institution, and you have acquired some data about the available courses and when they will be offered. In the following exercise, you will write control structures to process the data and return the semesters when a given course is offered.\n",
    "\n",
    "You will need to complete the function `when_offered(courses, course)`. This function accepts a \"courses\" data structure and a \"course\" string. The function should return a list of strings representing the semesters when the input course is offered. See the two test cases below for examples of correct results.\n",
    "\n",
    "Since the `when_offered` function accepts a dictionary data structure, you will find the\n",
    "\n",
    "`for  <key>  in  <dictionary>:   <block>`\n",
    "\n",
    "construct useful, as this loops through the key values in a dictionary."
   ]
  },
  {
   "cell_type": "code",
   "execution_count": null,
   "metadata": {
    "vscode": {
     "languageId": "plaintext"
    }
   },
   "outputs": [],
   "source": [
    "def smallest_positive(in_list):\n",
    "    s=in_list[0]\n",
    "    for i in range(len(in_list)):\n",
    "        if in_list[i] <= in_list[i+1]:\n",
    "            s = in_list[i]\n",
    "        else:\n",
    "            s = in_list[i+1] \n",
    "    return s\n",
    "# Test cases\n",
    "print(smallest_positive([4, -6, 7, 2, -4, 10]))\n",
    "# Correct output: 2\n",
    "print(smallest_positive([.2, 5, 3, -.1, 7, 7, 6]))\n",
    "# Correct output: 0.2\n",
    "print(smallest_positive([-6, -9, -7]))\n",
    "# Correct output: None\n",
    "print(smallest_positive([]))"
   ]
  },
  {
   "cell_type": "code",
   "execution_count": null,
   "metadata": {
    "vscode": {
     "languageId": "plaintext"
    }
   },
   "outputs": [],
   "source": [
    "# This exercise uses a data structure that stores course information.\n",
    "# The data structure format is:\n",
    "#    { <semester>: { <class>: { <property>: <value>, ... },\n",
    "#                                     ... },\n",
    "#      ... }\n",
    "courses = {\n",
    "    'spring2020': { 'cs101': {'name': 'Building a Search Engine',\n",
    "                           'teacher': 'Dave',\n",
    "                           'assistant': 'Peter C.'},\n",
    "                 'cs373': {'name': 'Programming a Robotic Car',\n",
    "                           'teacher': 'Sebastian',\n",
    "                           'assistant': 'Andy'}},\n",
    "    'fall2020': { 'cs101': {'name': 'Building a Search Engine',\n",
    "                           'teacher': 'Dave',\n",
    "                           'assistant': 'Sarah'},\n",
    "                 'cs212': {'name': 'The Design of Computer Programs',\n",
    "                           'teacher': 'Peter N.',\n",
    "                           'assistant': 'Andy',\n",
    "                           'prereq': 'cs101'},\n",
    "                 'cs253': {'name': 'Web Application Engineering - Building a Blog',\n",
    "                           'teacher': 'Steve',\n",
    "                           'prereq': 'cs101'},\n",
    "                 'cs262': {'name': 'Programming Languages - Building a Web Browser',\n",
    "                           'teacher': 'Wes',\n",
    "                           'assistant': 'Peter C.',\n",
    "                           'prereq': 'cs101'},\n",
    "                 'cs373': {'name': 'Programming a Robotic Car',\n",
    "                           'teacher': 'Sebastian'},\n",
    "                 'cs387': {'name': 'Applied Cryptography',\n",
    "                           'teacher': 'Dave'}},\n",
    "    'spring2044': { 'cs001': {'name': 'Building a Quantum Holodeck',\n",
    "                           'teacher': 'Dorina'},\n",
    "                        'cs003': {'name': 'Programming a Robotic Robotics Teacher',\n",
    "                           'teacher': 'Jasper'},\n",
    "                     }\n",
    "    }\n",
    "def when_offered(courses, course):\n",
    "    semesters = []\n",
    "    for key in courses:\n",
    "        for j in key\n",
    "        if \n",
    "        semesters.append(key)\n",
    "    return semesters\n",
    "    # TODO: Fill out the function here.\n",
    "    \n",
    "    # TODO: Return list of semesters here.\n",
    "    return None\n",
    "print(when_offered(courses, 'cs101'))\n",
    "# Correct result: \n",
    "# ['fall2020', 'spring2020']\n",
    "print(when_offered(courses, 'bio893'))\n",
    "# Correct result: \n",
    "# []"
   ]
  }
 ],
 "metadata": {
  "language_info": {
   "name": "python"
  }
 },
 "nbformat": 4,
 "nbformat_minor": 2
}
