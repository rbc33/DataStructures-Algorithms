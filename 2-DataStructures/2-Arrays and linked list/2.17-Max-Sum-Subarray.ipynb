{
 "cells": [
  {
   "cell_type": "markdown",
   "metadata": {
    "graffitiCellId": "id_9vap74c"
   },
   "source": [
    "### Problem Statement\n",
    "\n",
    "You have been given an array containg numbers. Find and return the largest sum in a contiguous subarray within the input array.\n",
    "\n",
    "**Example 1:**\n",
    "* `arr= [1, 2, 3, -4, 6]`\n",
    "* The largest sum is `8`, which is the sum of all elements of the array.\n",
    "\n",
    "**Example 2:**\n",
    "* `arr = [1, 2, -5, -4, 1, 6]`\n",
    "* The largest sum is `7`, which is the sum of the last two elements of the array.\n",
    "\n",
    "\n",
    "\n",
    " "
   ]
  },
  {
   "cell_type": "code",
   "execution_count": null,
   "metadata": {
    "graffitiCellId": "id_ok5cosl"
   },
   "outputs": [],
   "source": [
    "def max_sum_subarray(arr):\n",
    "    \"\"\"\n",
    "    :param - arr - input array\n",
    "    return - number - largest sum in contiguous subarry within arr\n",
    "    \"\"\"\n",
    "    sums = []\n",
    "    for i in range(len(arr)):\n",
    "        for j in range(i+1, len(arr)+1):  # Nota: +1 para incluir el último elemento\n",
    "            n = 0\n",
    "            for k in arr[i:j]:\n",
    "                n += k\n",
    "            sums.append(n)\n",
    "    print(sums)\n",
    "    n = sums[0]\n",
    "    for i in sums:\n",
    "        if n<i:\n",
    "            n = i\n",
    "    print(n) \n",
    "    return n "
   ]
  },
  {
   "cell_type": "code",
   "execution_count": 26,
   "metadata": {},
   "outputs": [
    {
     "name": "stdout",
     "output_type": "stream",
     "text": [
      "[1, 3, 6, 2, 8, 2, 5, 1, 7, 3, -1, 5, -4, 2, 6]\n",
      "8\n"
     ]
    },
    {
     "data": {
      "text/plain": [
       "8"
      ]
     },
     "execution_count": 26,
     "metadata": {},
     "output_type": "execute_result"
    }
   ],
   "source": [
    "arr= [1, 2, 3, -4, 6]\n",
    "max_sum_subarray(arr)"
   ]
  },
  {
   "cell_type": "markdown",
   "metadata": {
    "graffitiCellId": "id_qy59phn"
   },
   "source": [
    "<span class=\"graffiti-highlight graffiti-id_qy59phn-id_3hqoizc\"><i></i><button>Hide Solution</button></span>"
   ]
  },
  {
   "cell_type": "code",
   "execution_count": null,
   "metadata": {
    "graffitiCellId": "id_3hqoizc"
   },
   "outputs": [],
   "source": [
    "# Solution\n",
    "'''\n",
    "The Idea:\n",
    "1. We have to find the sum of \"contiguous\" subarray, therefore we must not change the order of array elements.\n",
    "2. Let `current_sum` denotes the sum of a subarray, and `max_sum` denotes the maximum value of `current_sum`.\n",
    "3. LOOP STARTS: For each element of the array, update the `current_sum` with the MAXIMUM of either:\n",
    " - The element added to the `current_sum` (denotes the addition of the element to the current subarray)\n",
    " - The element itself  (denotes the starting of a new subarray)\n",
    " - Update (overwrite) `max_sum`, if it is lower than the updated `current_sum`\n",
    "4. Return `max_sum`\n",
    "'''\n",
    "\n",
    "def max_sum_subarray(arr):\n",
    "    \n",
    "    current_sum = arr[0] # `current_sum` denotes the sum of a subarray\n",
    "    max_sum = arr[0]     # `max_sum` denotes the maximum value of `current_sum` ever\n",
    "    \n",
    "    # Loop from VALUE at index position 1 till the end of the array\n",
    "    for element in arr[1:]:\n",
    "        \n",
    "        '''\n",
    "        # Compare (current_sum + element) vs (element)\n",
    "        # If (current_sum + element) is higher, it denotes the addition of the element to the current subarray\n",
    "        # If (element) alone is higher, it denotes the starting of a new subarray\n",
    "        '''\n",
    "        current_sum = max(current_sum + element, element)\n",
    "        \n",
    "        # Update (overwrite) `max_sum`, if it is lower than the updated `current_sum`\n",
    "        max_sum = max(current_sum, max_sum)   \n",
    "    \n",
    "    return max_sum"
   ]
  },
  {
   "cell_type": "code",
   "execution_count": 27,
   "metadata": {
    "graffitiCellId": "id_x2c4yaf"
   },
   "outputs": [],
   "source": [
    "def test_function(test_case):\n",
    "    arr = test_case[0]\n",
    "    solution = test_case[1]\n",
    "    \n",
    "    output = max_sum_subarray(arr)\n",
    "    if output == solution:\n",
    "        print(\"Pass\")\n",
    "    else:\n",
    "        print(\"Fail\")"
   ]
  },
  {
   "cell_type": "code",
   "execution_count": 28,
   "metadata": {
    "graffitiCellId": "id_ocg7bal"
   },
   "outputs": [
    {
     "name": "stdout",
     "output_type": "stream",
     "text": [
      "[1, 3, 6, 2, 8, 2, 5, 1, 7, 3, -1, 5, -4, 2, 6]\n",
      "8\n",
      "Pass\n"
     ]
    }
   ],
   "source": [
    "arr= [1, 2, 3, -4, 6]\n",
    "solution= 8 # sum of array\n",
    "\n",
    "test_case = [arr, solution]\n",
    "test_function(test_case)"
   ]
  },
  {
   "cell_type": "code",
   "execution_count": 29,
   "metadata": {
    "graffitiCellId": "id_vepfpek"
   },
   "outputs": [
    {
     "name": "stdout",
     "output_type": "stream",
     "text": [
      "[1, 3, -2, -6, -5, 1, 2, -3, -7, -6, 0, -5, -9, -8, -2, -4, -3, 3, 1, 7, 6]\n",
      "7\n",
      "Pass\n"
     ]
    }
   ],
   "source": [
    "arr = [1, 2, -5, -4, 1, 6]\n",
    "solution = 7   # sum of last two elements\n",
    "\n",
    "test_case = [arr, solution]\n",
    "test_function(test_case)"
   ]
  },
  {
   "cell_type": "code",
   "execution_count": 30,
   "metadata": {
    "graffitiCellId": "id_78na1mt"
   },
   "outputs": [
    {
     "name": "stdout",
     "output_type": "stream",
     "text": [
      "[-12, 3, -10, 4, 3, 5, 6, 1, 5, 15, 2, 16, 15, 17, 18, 13, 17, -13, 1, 0, 2, 3, -2, 2, 14, 13, 15, 16, 11, 15, -1, 1, 2, -3, 1, 2, 3, -2, 2, 1, -4, 0, -5, -1, 4]\n",
      "18\n",
      "Pass\n"
     ]
    }
   ],
   "source": [
    "arr = [-12, 15, -13, 14, -1, 2, 1, -5, 4]\n",
    "solution = 18  # sum of subarray = [15, -13, 14, -1, 2, 1]\n",
    "\n",
    "test_case = [arr, solution]\n",
    "test_function(test_case)"
   ]
  }
 ],
 "metadata": {
  "graffiti": {
   "firstAuthorId": "dev",
   "id": "id_jzh7rvz",
   "language": "EN"
  },
  "kernelspec": {
   "display_name": "Python 3",
   "language": "python",
   "name": "python3"
  },
  "language_info": {
   "codemirror_mode": {
    "name": "ipython",
    "version": 3
   },
   "file_extension": ".py",
   "mimetype": "text/x-python",
   "name": "python",
   "nbconvert_exporter": "python",
   "pygments_lexer": "ipython3",
   "version": "3.11.6"
  }
 },
 "nbformat": 4,
 "nbformat_minor": 2
}
