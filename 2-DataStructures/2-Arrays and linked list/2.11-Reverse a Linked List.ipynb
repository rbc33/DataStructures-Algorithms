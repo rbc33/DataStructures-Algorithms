{
 "cells": [
  {
   "cell_type": "markdown",
   "metadata": {},
   "source": [
    "In this exercise, you will implement a function to reverse a singly linked list. Reversing a linked list is a common operation that changes the order of elements such that the head of the original list becomes the tail of the reversed list, and the tail becomes the head.\n",
    "\n",
    "### Example\n",
    "\n",
    "Consider a linked list containing the elements:  \n",
    "4 → 2 → 5 → 1 → -3 → 0\n",
    "\n",
    "After reversing, the list should be:  \n",
    "0 → -3 → 1 → 5 → 2 → 4\n",
    "\n",
    "### Objective\n",
    "\n",
    "Your task is to write a function `reverse(linked_list)` that takes a singly linked list as input and returns a new linked list that is the reverse of the original.\n",
    "\n",
    "### Provided Code\n",
    "\n",
    "You are provided with helper code that defines the `Node` and `LinkedList` classes to manage the linked list:\n",
    "\n",
    "```python \n",
    "class Node:\n",
    "    def __init__(self, value):\n",
    "        self.value = value\n",
    "        self.next = None\n",
    "\n",
    "class LinkedList:\n",
    "    def __init__(self):\n",
    "        self.head = None\n",
    "        \n",
    "    def append(self, value):\n",
    "        if self.head is None:\n",
    "            self.head = Node(value)\n",
    "            return\n",
    "        \n",
    "        node = self.head\n",
    "        while node.next:\n",
    "            node = node.next\n",
    "\n",
    "        node.next = Node(value)\n",
    "        \n",
    "    def __iter__(self):\n",
    "        node = self.head\n",
    "        while node:\n",
    "            yield node.value\n",
    "            node = node.next\n",
    "            \n",
    "    def __repr__(self):\n",
    "        return str([v for v in self])\n",
    "```\n",
    "### Instructions\n",
    "\n",
    "1. Define the `reverse` function to take a `LinkedList` object as input.\n",
    "2. Implement the logic to reverse the linked list within this function.\n",
    "3. Ensure that the `reverse` function correctly handles the linked list data and returns the reversed list.\n",
    "\n",
    "If your function fails the test, it may be an error in how the reverse function processes the linked list, such as not reversing it correctly or improperly modifying the input list."
   ]
  },
  {
   "cell_type": "markdown",
   "metadata": {
    "graffitiCellId": "id_cead7md"
   },
   "source": [
    "# Reversing a linked list exercise\n",
    "\n",
    "Given a singly linked list, return another linked list that is the reverse of the first."
   ]
  },
  {
   "cell_type": "code",
   "execution_count": 13,
   "metadata": {
    "graffitiCellId": "id_hitzgz4"
   },
   "outputs": [],
   "source": [
    "# Helper Code\n",
    "\n",
    "class Node:\n",
    "    def __init__(self, value):\n",
    "        self.value = value\n",
    "        self.next = None\n",
    "\n",
    "class LinkedList:\n",
    "    def __init__(self):\n",
    "        self.head = None\n",
    "        \n",
    "    def append(self, value):\n",
    "        if self.head is None:\n",
    "            self.head = Node(value)\n",
    "            return\n",
    "        \n",
    "        node = self.head\n",
    "        while node.next:\n",
    "            node = node.next\n",
    "\n",
    "        node.next = Node(value)\n",
    "        \n",
    "    def __iter__(self):\n",
    "        node = self.head\n",
    "        while node:\n",
    "            yield node.value\n",
    "            node = node.next\n",
    "            \n",
    "    def __repr__(self):\n",
    "        return str([v for v in self])"
   ]
  },
  {
   "cell_type": "markdown",
   "metadata": {
    "graffitiCellId": "id_uhfa8px"
   },
   "source": [
    "### Write the function definition here"
   ]
  },
  {
   "cell_type": "code",
   "execution_count": 16,
   "metadata": {
    "graffitiCellId": "id_lohit3u"
   },
   "outputs": [],
   "source": [
    "def reverse(linked_list):\n",
    "    \"\"\"\n",
    "    Reverse the inputted linked list\n",
    "\n",
    "    Args:\n",
    "        linked_list(obj): Linked List to be reversed\n",
    "    Returns:\n",
    "       obj: Reveresed Linked List\n",
    "    \"\"\"\n",
    "\n",
    "    # TODO: Write your function to reverse linked lists here\n",
    "    my_list = LinkedList()\n",
    "    prev_node = None\n",
    "\n",
    "    for value in linked_list:\n",
    "       node = Node(value)\n",
    "       node.next = prev_node\n",
    "       prev_node = node\n",
    "    my_list.head = prev_node\n",
    "\n",
    "    \n",
    "    return my_list"
   ]
  },
  {
   "cell_type": "markdown",
   "metadata": {
    "graffitiCellId": "id_imzm0sv"
   },
   "source": [
    "### Let's test your function"
   ]
  },
  {
   "cell_type": "code",
   "execution_count": 17,
   "metadata": {
    "graffitiCellId": "id_xm503ob"
   },
   "outputs": [
    {
     "name": "stdout",
     "output_type": "stream",
     "text": [
      "Pass\n"
     ]
    }
   ],
   "source": [
    "llist = LinkedList()\n",
    "for value in [4,2,5,1,-3,0]:\n",
    "    llist.append(value)\n",
    "\n",
    "flipped = reverse(llist)\n",
    "is_correct = list(flipped) == list([0,-3,1,5,2,4]) and list(llist) == list(reverse(flipped))\n",
    "print(\"Pass\" if is_correct else \"Fail\")"
   ]
  },
  {
   "cell_type": "markdown",
   "metadata": {
    "graffitiCellId": "id_0gw081c"
   },
   "source": [
    "<span class=\"graffiti-highlight graffiti-id_0gw081c-id_dmb7r0h\"><i></i><button>Show Solution</button></span>"
   ]
  },
  {
   "cell_type": "code",
   "execution_count": null,
   "metadata": {
    "graffitiCellId": "id_r6i1ug2"
   },
   "outputs": [],
   "source": [
    "# Solution\n",
    "\n",
    "# Time complexity O(N)\n",
    "def reverse(linked_list):\n",
    "    \"\"\"\n",
    "    Reverse the inputted linked list\n",
    "\n",
    "    Args:\n",
    "       linked_list(obj): Linked List to be reversed\n",
    "    Returns:\n",
    "       obj: Reveresed Linked List\n",
    "    \"\"\"\n",
    "    new_list = LinkedList()\n",
    "    \n",
    "    prev_node = None\n",
    "\n",
    "    \"\"\"\n",
    "    A simple idea - Pick a node from the original linked list traversing form the beginning, and \n",
    "    prepend it to the new linked list. \n",
    "    We have to use a loop to iterate over the nodes of original linked list\n",
    "    \"\"\"\n",
    "    # In this \"for\" loop, the \"value\" is just a variable whose value will be updated in each iteration\n",
    "    for value in linked_list:\n",
    "        # create a new node\n",
    "        new_node = Node(value)\n",
    "        \n",
    "        # Make the new_node.next point to the \n",
    "        # node created in previous iteration\n",
    "        new_node.next = prev_node \n",
    "        \n",
    "        # This is the last statement of the loop\n",
    "        # Mark the current new node as the \"prev_node\" for next iteration\n",
    "        prev_node = new_node\n",
    "    \n",
    "    # Update the new_list.head to point to the final node that came out of the loop\n",
    "    new_list.head = prev_node\n",
    "    \n",
    "    return new_list\n"
   ]
  }
 ],
 "metadata": {
  "graffiti": {
   "firstAuthorId": "10694620118",
   "id": "id_dvlxolz",
   "language": "EN"
  },
  "kernelspec": {
   "display_name": "Python 3",
   "language": "python",
   "name": "python3"
  },
  "language_info": {
   "codemirror_mode": {
    "name": "ipython",
    "version": 3
   },
   "file_extension": ".py",
   "mimetype": "text/x-python",
   "name": "python",
   "nbconvert_exporter": "python",
   "pygments_lexer": "ipython3",
   "version": "3.11.6"
  }
 },
 "nbformat": 4,
 "nbformat_minor": 2
}
