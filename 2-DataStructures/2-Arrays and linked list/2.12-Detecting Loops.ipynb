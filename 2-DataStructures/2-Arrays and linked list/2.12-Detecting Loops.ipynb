{
 "cells": [
  {
   "cell_type": "markdown",
   "metadata": {},
   "source": [
    "In computer science, linked lists are a fundamental data structure used to represent sequences of elements. However, linked lists can sometimes contain loops, where a node in the list points back to a previous node, creating a cycle. Detecting these loops is crucial for ensuring the integrity of operations on the list, as loops can lead to infinite loops in algorithms, memory leaks, and other unexpected behaviors.\n",
    "\n",
    "## Objective\n",
    "\n",
    "In this exercise, you will implement a function to detect if a loop exists in a linked list. Detecting loops is a common problem with practical applications in various fields, such as network topology, graph theory, and debugging complex software systems.\n",
    "\n",
    "## The Two-Pointer Technique\n",
    "\n",
    "To detect a loop, we'll use an efficient method known as the two-pointer or \"runner\" technique. This method involves two pointers that traverse the list at different speeds:\n",
    "\n",
    "- **Slow Runner**: This pointer moves one node per step.\n",
    "- **Fast Runner**: This pointer moves two nodes per step.\n",
    "\n",
    "The key insight is that if there is a loop in the linked list, the fast runner will eventually lap the slow runner, causing both pointers to meet at the same node. Without a loop, the fast runner will reach the end of the list without ever meeting the slow runner.\n",
    "\n",
    "## Why Use the Two-Pointer Technique?\n",
    "\n",
    "The two-pointer technique is efficient because it allows us to detect loops in linear time, O(n), and with constant space, O(1). This is significantly better than a naive approach, which might involve storing all visited nodes in a data structure and checking for repeats, which would require O(n) space."
   ]
  },
  {
   "cell_type": "markdown",
   "metadata": {},
   "source": [
    "------------------------------------------------------------------------------------"
   ]
  },
  {
   "cell_type": "markdown",
   "metadata": {},
   "source": [
    "------------------------------------------------------------------------------------"
   ]
  },
  {
   "cell_type": "markdown",
   "metadata": {
    "graffitiCellId": "id_0d6ntqj"
   },
   "source": [
    "# Detecting Loops in Linked Lists\n",
    "\n",
    "In this notebook, you'll implement a function that detects if a loop exists in a linked list. The way we'll do this is by having two pointers, called \"runners\", moving through the list at different rates. Typically we have a \"slow\" runner which moves at one node per step and a \"fast\" runner that moves at two nodes per step.\n",
    "\n",
    "If a loop exists in the list, the fast runner will eventually move behind the slow runner as it moves to the beginning of the loop. Eventually it will catch up to the slow runner and both runners will be pointing to the same node at the same time. If this happens then you know there is a loop in the linked list. Below is an example where we have a slow runner (the green arrow) and a fast runner (the red arrow).\n",
    "\n",
    "<center><img src='assets/two_runners_circular.png' alt=\"Visual walk through of the steps described above to determine if a loop exists in a linked list.\" width=300px></center>"
   ]
  },
  {
   "cell_type": "code",
   "execution_count": 8,
   "metadata": {
    "graffitiCellId": "id_kqi6rp6"
   },
   "outputs": [],
   "source": [
    "class Node:\n",
    "    def __init__(self, value):\n",
    "        self.value = value\n",
    "        self.next = None\n",
    "        \n",
    "class LinkedList:\n",
    "    def __init__(self, init_list=None):\n",
    "        self.head = None\n",
    "        if init_list:\n",
    "            for value in init_list:\n",
    "                self.append(value)\n",
    "        \n",
    "    def append(self, value):\n",
    "        if self.head is None:\n",
    "            self.head = Node(value)\n",
    "            return\n",
    "        \n",
    "        # Move to the tail (the last node)\n",
    "        node = self.head\n",
    "        while node.next:\n",
    "            node = node.next\n",
    "        \n",
    "        node.next = Node(value)\n",
    "        return"
   ]
  },
  {
   "cell_type": "code",
   "execution_count": 9,
   "metadata": {
    "graffitiCellId": "id_17pg09d"
   },
   "outputs": [],
   "source": [
    "list_with_loop = LinkedList([2, -1, 3, 0, 5])\n",
    "\n",
    "# Creating a loop where the last node points back to the second node\n",
    "loop_start = list_with_loop.head.next\n",
    "\n",
    "node = list_with_loop.head\n",
    "while node.next: \n",
    "    node = node.next   \n",
    "node.next = loop_start"
   ]
  },
  {
   "cell_type": "markdown",
   "metadata": {
    "graffitiCellId": "id_kwwwkfx"
   },
   "source": [
    "### Write the function definition here\n",
    "**Exercise:** Given a linked list, implement a function `iscircular` that returns `True` if a loop exists in the list and `False` otherwise."
   ]
  },
  {
   "cell_type": "code",
   "execution_count": 10,
   "metadata": {
    "graffitiCellId": "id_bgz20kt"
   },
   "outputs": [],
   "source": [
    "def iscircular(linked_list):\n",
    "    \"\"\"\n",
    "    Determine whether the Linked List is circular or not\n",
    "\n",
    "    Args:\n",
    "       linked_list(obj): Linked List to be checked\n",
    "    Returns:\n",
    "       bool: Return True if the linked list is circular, return False otherwise\n",
    "    \"\"\"\n",
    "    \n",
    "    # TODO: Write function to check if linked list is circular\n",
    "    fast = linked_list.head\n",
    "    slow = linked_list.head\n",
    "    while fast and fast.next:\n",
    "      slow = slow.next\n",
    "      fast = fast.next.next\n",
    "      if slow == fast:\n",
    "        return True\n"
   ]
  },
  {
   "cell_type": "markdown",
   "metadata": {
    "graffitiCellId": "id_mq7ca0u"
   },
   "source": [
    "### Let's test your function"
   ]
  },
  {
   "cell_type": "code",
   "execution_count": 11,
   "metadata": {
    "graffitiCellId": "id_fob6797"
   },
   "outputs": [
    {
     "name": "stdout",
     "output_type": "stream",
     "text": [
      "Pass\n",
      "Fail\n",
      "Fail\n",
      "Pass\n",
      "Fail\n"
     ]
    }
   ],
   "source": [
    "# Test Cases\n",
    "\n",
    "# Create another circular linked list\n",
    "small_loop = LinkedList([0])\n",
    "small_loop.head.next = small_loop.head\n",
    "\n",
    "print (\"Pass\" if iscircular(list_with_loop) else \"Fail\")                  # Pass\n",
    "print (\"Pass\" if iscircular(LinkedList([-4, 7, 2, 5, -1])) else \"Fail\")   # Fail\n",
    "print (\"Pass\" if iscircular(LinkedList([1])) else \"Fail\")                 # Fail\n",
    "print (\"Pass\" if iscircular(small_loop) else \"Fail\")                      # Pass\n",
    "print (\"Pass\" if iscircular(LinkedList([])) else \"Fail\")                  # Fail\n"
   ]
  },
  {
   "cell_type": "markdown",
   "metadata": {
    "graffitiCellId": "id_tuhz4y1"
   },
   "source": [
    "<span class=\"graffiti-highlight graffiti-id_tuhz4y1-id_fy0906u\"><i></i><button>Show Solution</button></span>"
   ]
  },
  {
   "cell_type": "code",
   "execution_count": 12,
   "metadata": {
    "graffitiCellId": "id_tbp0utt"
   },
   "outputs": [],
   "source": [
    "# Solution\n",
    "\n",
    "def iscircular(linked_list):\n",
    "    \"\"\"\n",
    "    Determine wether the Linked List is circular or not\n",
    "\n",
    "    Args:\n",
    "       linked_list(obj): Linked List to be checked\n",
    "    Returns:\n",
    "       bool: Return True if the linked list is circular, return False otherwise\n",
    "    \"\"\"\n",
    "\n",
    "    if linked_list.head is None:\n",
    "        return False\n",
    "    \n",
    "    slow = linked_list.head\n",
    "    fast = linked_list.head\n",
    "    \n",
    "    while fast and fast.next:\n",
    "        # slow pointer moves one node\n",
    "        slow = slow.next\n",
    "        # fast pointer moves two nodes\n",
    "        fast = fast.next.next\n",
    "        \n",
    "        if slow == fast:\n",
    "            return True\n",
    "    \n",
    "    # If we get to a node where fast doesn't have a next node or doesn't exist itself, \n",
    "    # the list has an end and isn't circular\n",
    "    return False\n"
   ]
  }
 ],
 "metadata": {
  "graffiti": {
   "firstAuthorId": "10694620118",
   "id": "id_ao3gp0i",
   "language": "EN"
  },
  "kernelspec": {
   "display_name": "Python 3",
   "language": "python",
   "name": "python3"
  },
  "language_info": {
   "codemirror_mode": {
    "name": "ipython",
    "version": 3
   },
   "file_extension": ".py",
   "mimetype": "text/x-python",
   "name": "python",
   "nbconvert_exporter": "python",
   "pygments_lexer": "ipython3",
   "version": "3.11.6"
  }
 },
 "nbformat": 4,
 "nbformat_minor": 2
}
