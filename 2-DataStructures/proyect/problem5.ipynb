{
 "cells": [
  {
   "cell_type": "code",
   "execution_count": 20,
   "metadata": {},
   "outputs": [],
   "source": [
    "import hashlib\n",
    "import datetime\n",
    "\n",
    "# def calc_hash(self):\n",
    "#       sha = hashlib.sha256()\n",
    "\n",
    "#       hash_str = \"We are going to encode this string of data!\".encode('utf-8')\n",
    "\n",
    "#       sha.update(hash_str)\n",
    "\n",
    "#       return sha.hexdigest()"
   ]
  },
  {
   "cell_type": "code",
   "execution_count": 21,
   "metadata": {},
   "outputs": [],
   "source": [
    "class Block:\n",
    "\n",
    "    def __init__(self, data, previous_hash):\n",
    "      self.timestamp = datetime.datetime.now()\n",
    "      self.data = data\n",
    "      self.previous_hash = previous_hash\n",
    "      self.hash = self.calc_hash()\n",
    "    def calc_hash(self):\n",
    "      sha = hashlib.sha256()\n",
    "\n",
    "      hash_str = \"We are going to encode this string of data!\".encode('utf-8')\n",
    "\n",
    "      sha.update(hash_str)\n",
    "\n",
    "      return sha.hexdigest()\n",
    "\n",
    "## Add your own test cases: include at least three test cases\n",
    "## and two of them must include edge cases, such as null, empty or very large values\n",
    "\n",
    "## Test Case 1\n",
    "\n",
    "## Test Case 2\n",
    "\n",
    "## Test Case 3"
   ]
  },
  {
   "cell_type": "code",
   "execution_count": 22,
   "metadata": {},
   "outputs": [],
   "source": [
    "class Blockchain:\n",
    "    def __init__(self):\n",
    "        self.head = None\n",
    "        self.previous_hash = None\n",
    "        self.next = None\n",
    "    def push(self, data):\n",
    "        if not self.head:\n",
    "            self.head = Block(data, self.previous_hash)\n",
    "            self.previous_hash = self.head.previous_hash\n",
    "        else:\n",
    "            new_head = Block(data, self.head.previous_hash)\n",
    "            new_head.next = self.head\n",
    "            self.head = new_head\n",
    "\n",
    "\n"
   ]
  },
  {
   "cell_type": "code",
   "execution_count": 23,
   "metadata": {},
   "outputs": [],
   "source": [
    "my_block = Blockchain()\n",
    "my_block.push(3)\n",
    "my_block.push(4)"
   ]
  },
  {
   "cell_type": "code",
   "execution_count": 27,
   "metadata": {},
   "outputs": [
    {
     "name": "stdout",
     "output_type": "stream",
     "text": [
      "Test Case 1: Normal blockchain operation\n",
      "Block 1:\n",
      "Data: Third Block Data\n",
      "Previous Hash: None\n",
      "------------------------------\n",
      "Block 2:\n",
      "Data: Second Block Data\n",
      "Previous Hash: None\n",
      "------------------------------\n",
      "Block 3:\n",
      "Data: First Block Data\n",
      "Previous Hash: None\n",
      "------------------------------\n"
     ]
    },
    {
     "ename": "AttributeError",
     "evalue": "'Block' object has no attribute 'next'",
     "output_type": "error",
     "traceback": [
      "\u001b[31m---------------------------------------------------------------------------\u001b[39m",
      "\u001b[31mAttributeError\u001b[39m                            Traceback (most recent call last)",
      "\u001b[36mCell\u001b[39m\u001b[36m \u001b[39m\u001b[32mIn[27]\u001b[39m\u001b[32m, line 15\u001b[39m\n\u001b[32m     13\u001b[39m \u001b[38;5;28mprint\u001b[39m(\u001b[33mf\u001b[39m\u001b[33m\"\u001b[39m\u001b[33mPrevious Hash: \u001b[39m\u001b[38;5;132;01m{\u001b[39;00mcurrent.previous_hash\u001b[38;5;132;01m}\u001b[39;00m\u001b[33m\"\u001b[39m)\n\u001b[32m     14\u001b[39m \u001b[38;5;28mprint\u001b[39m(\u001b[33m\"\u001b[39m\u001b[33m-\u001b[39m\u001b[33m\"\u001b[39m * \u001b[32m30\u001b[39m)\n\u001b[32m---> \u001b[39m\u001b[32m15\u001b[39m current = \u001b[43mcurrent\u001b[49m\u001b[43m.\u001b[49m\u001b[43mnext\u001b[49m\n\u001b[32m     16\u001b[39m block_number += \u001b[32m1\u001b[39m\n",
      "\u001b[31mAttributeError\u001b[39m: 'Block' object has no attribute 'next'"
     ]
    }
   ],
   "source": [
    "# Test Case 1: Normal blockchain operation\n",
    "blockchain = Blockchain()\n",
    "blockchain.push(\"First Block Data\")\n",
    "blockchain.push(\"Second Block Data\")\n",
    "blockchain.push(\"Third Block Data\")\n",
    "\n",
    "print(\"Test Case 1: Normal blockchain operation\")\n",
    "current = blockchain.head\n",
    "block_number = 1\n",
    "while current:\n",
    "    print(f\"Block {block_number}:\")\n",
    "    print(f\"Data: {current.data}\")\n",
    "    print(f\"Previous Hash: {current.previous_hash}\")\n",
    "    print(\"-\" * 30)\n",
    "    current = current.next\n",
    "    block_number += 1"
   ]
  },
  {
   "cell_type": "code",
   "execution_count": 25,
   "metadata": {},
   "outputs": [
    {
     "name": "stdout",
     "output_type": "stream",
     "text": [
      "\n",
      "Test Case 2: Empty blockchain\n",
      "Blockchain is empty\n"
     ]
    }
   ],
   "source": [
    "# Test Case 2: Edge case - Empty blockchain\n",
    "empty_blockchain = Blockchain()\n",
    "print(\"\\nTest Case 2: Empty blockchain\")\n",
    "if empty_blockchain.head is None:\n",
    "    print(\"Blockchain is empty\")\n",
    "else:\n",
    "    print(\"Blockchain is not empty\")"
   ]
  },
  {
   "cell_type": "code",
   "execution_count": 26,
   "metadata": {},
   "outputs": [
    {
     "name": "stdout",
     "output_type": "stream",
     "text": [
      "\n",
      "Test Case 3: Large data input\n",
      "Block hash length: 64\n",
      "First 50 chars of data: 5lkQbTRFbWspQhS895OUb7Heg7uYOrlZPclNNfpFq8obnR2Oef...\n",
      "Data size: 10000 characters\n"
     ]
    }
   ],
   "source": [
    "# Test Case 3: Edge case - Large data input\n",
    "import random\n",
    "import string\n",
    "\n",
    "# Generate a large random string\n",
    "large_data = ''.join(random.choices(string.ascii_letters + string.digits, k=10000))\n",
    "\n",
    "large_blockchain = Blockchain()\n",
    "large_blockchain.push(large_data)\n",
    "\n",
    "print(\"\\nTest Case 3: Large data input\")\n",
    "print(f\"Block hash length: {len(large_blockchain.head.hash)}\")\n",
    "print(f\"First 50 chars of data: {large_blockchain.head.data[:50]}...\")\n",
    "print(f\"Data size: {len(large_blockchain.head.data)} characters\")"
   ]
  }
 ],
 "metadata": {
  "kernelspec": {
   "display_name": "Python 3",
   "language": "python",
   "name": "python3"
  },
  "language_info": {
   "codemirror_mode": {
    "name": "ipython",
    "version": 3
   },
   "file_extension": ".py",
   "mimetype": "text/x-python",
   "name": "python",
   "nbconvert_exporter": "python",
   "pygments_lexer": "ipython3",
   "version": "3.11.6"
  }
 },
 "nbformat": 4,
 "nbformat_minor": 2
}
