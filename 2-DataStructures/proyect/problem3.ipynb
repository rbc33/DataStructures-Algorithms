{
 "cells": [
  {
   "cell_type": "code",
   "execution_count": 23,
   "metadata": {},
   "outputs": [],
   "source": [
    "import sys\n",
    "from collections import deque\n",
    "class Node:\n",
    "    def __init__(self, char=None, freq=0):\n",
    "        self.char = char\n",
    "        self.freq = freq\n",
    "        self.left = None\n",
    "        self.right = None\n",
    "        \n",
    "    def __repr__(self):\n",
    "        return f\"Node(char={self.char}, freq={self.freq})\"\n",
    "\n",
    "class Tree:\n",
    "    def __init__(self, root=None):\n",
    "        self.root = root\n",
    "        \n",
    "    def get_root(self):\n",
    "        return self.root\n",
    "        \n",
    "    def __repr__(self):\n",
    "        return f\"Tree(root={self.root})\""
   ]
  },
  {
   "cell_type": "code",
   "execution_count": 24,
   "metadata": {},
   "outputs": [],
   "source": [
    "def dic_of_frequency(data):\n",
    "    freq = {}\n",
    "    for i in data:\n",
    "        if i in freq.keys():\n",
    "            freq[i] += i\n",
    "        else:\n",
    "            freq[i] = i \n",
    "    return freq"
   ]
  },
  {
   "cell_type": "code",
   "execution_count": 25,
   "metadata": {},
   "outputs": [],
   "source": [
    "def generate_codes(node, current_code, codes):\n",
    "    if node is None:\n",
    "        return\n",
    "        \n",
    "    # If this is a leaf node (has a character)\n",
    "    if node.char is not None:\n",
    "        codes[node.char] = current_code if current_code else \"0\"\n",
    "        return\n",
    "    \n",
    "    # Traverse left (add 0)\n",
    "    generate_codes(node.left, current_code + \"0\", codes)\n",
    "    \n",
    "    # Traverse right (add 1)\n",
    "    generate_codes(node.right, current_code + \"1\", codes)"
   ]
  },
  {
   "cell_type": "code",
   "execution_count": 26,
   "metadata": {},
   "outputs": [
    {
     "name": "stdout",
     "output_type": "stream",
     "text": [
      "The size of the data is: 69\n",
      "The content of the data is: The bird is the word\n",
      "The size of the encoded data is: 44\n",
      "The content of the encoded data is: 000000000010000001000000010000000000000000000010000010001000000001000000000000000010010000000000001000000100000001000000000001000010001000000001\n",
      "The size of the decoded data is: 69\n",
      "The content of the encoded data is: The bird is the word\n"
     ]
    }
   ],
   "source": [
    "def create_tree(nodes):\n",
    "    while len(nodes) > 1:\n",
    "        # Find two nodes with lowest frequencies\n",
    "        min_node1 = min(nodes, key=lambda x: x.freq)\n",
    "        nodes.remove(min_node1)\n",
    "        \n",
    "        min_node2 = min(nodes, key=lambda x: x.freq)\n",
    "        nodes.remove(min_node2)\n",
    "        \n",
    "        # Create new internal node with these two as children\n",
    "        node_sum = Node(None, min_node1.freq + min_node2.freq)\n",
    "        node_sum.left = min_node1\n",
    "        node_sum.right = min_node2\n",
    "        \n",
    "        # Add the new node back to the queue\n",
    "        nodes.append(node_sum)\n",
    "    \n",
    "    # Create and return a Tree with the root node\n",
    "    return Tree(nodes[0]) if nodes else Tree()\n",
    "\n",
    "\n",
    "def huffman_encoding(data):\n",
    "    if not data:\n",
    "        return \"\", None\n",
    "        \n",
    "    # Get frequency of each character\n",
    "    freq = dic_of_frequency(data)\n",
    "    \n",
    "    # Create nodes for each character\n",
    "    nodes = deque()\n",
    "    for char, frequency in freq.items():\n",
    "        nodes.append(Node(char, frequency))\n",
    "    \n",
    "    # Build the Huffman tree\n",
    "    tree = create_tree(nodes)\n",
    "    \n",
    "    # Generate codes for each character\n",
    "    codes = {}\n",
    "    generate_codes(tree.get_root(), \"\", codes)\n",
    "    \n",
    "    # Encode the data\n",
    "    encoded_data = \"\"\n",
    "    for char in data:\n",
    "        encoded_data += codes[char]\n",
    "    \n",
    "    return encoded_data, tree\n",
    "\n",
    "    \n",
    "            \n",
    "\n",
    "def huffman_decoding(data,tree):\n",
    "    if not data or tree.get_root() is None:\n",
    "        return \"\"\n",
    "    \n",
    "    root = tree.get_root()\n",
    "    \n",
    "    # Special case for tree with only one character\n",
    "    if root.left is None and root.right is None:\n",
    "        return root.char * len(data)\n",
    "    \n",
    "    decoded_data = \"\"\n",
    "    current_node = root\n",
    "    \n",
    "    # Traverse the Huffman tree based on the encoded data\n",
    "    for bit in data:\n",
    "        if bit == '0':\n",
    "            current_node = current_node.left\n",
    "        else:  # bit == '1'\n",
    "            current_node = current_node.right\n",
    "            \n",
    "        # If we reach a leaf node (character node)\n",
    "        if current_node.left is None and current_node.right is None:\n",
    "            decoded_data += current_node.char\n",
    "            current_node = root  # Reset to the root for next character\n",
    "    \n",
    "    return decoded_data\n",
    "\n",
    "if __name__ == \"__main__\":\n",
    "    codes = {}\n",
    "\n",
    "    a_great_sentence = \"The bird is the word\"\n",
    "\n",
    "    print(f\"The size of the data is: {sys.getsizeof(a_great_sentence)}\")\n",
    "    print(f\"The content of the data is: {a_great_sentence}\")\n",
    "\n",
    "    encoded_data, tree = huffman_encoding(a_great_sentence)\n",
    "\n",
    "    print(f\"The size of the encoded data is: {sys.getsizeof(int(encoded_data, base=2))}\")\n",
    "    print(f\"The content of the encoded data is: {encoded_data}\")\n",
    "\n",
    "    decoded_data = huffman_decoding(encoded_data, tree)\n",
    "\n",
    "    print(f\"The size of the decoded data is: {sys.getsizeof(decoded_data)}\")\n",
    "    print(f\"The content of the encoded data is: {decoded_data}\")\n",
    "\n"
   ]
  },
  {
   "cell_type": "code",
   "execution_count": 27,
   "metadata": {},
   "outputs": [
    {
     "data": {
      "text/plain": [
       "('01', Tree(root=Node(char=None, freq=ht)))"
      ]
     },
     "execution_count": 27,
     "metadata": {},
     "output_type": "execute_result"
    }
   ],
   "source": [
    "huffman_encoding(\"ht\")"
   ]
  },
  {
   "cell_type": "code",
   "execution_count": 28,
   "metadata": {},
   "outputs": [
    {
     "name": "stdout",
     "output_type": "stream",
     "text": [
      "Test Case 1: String with different frequency characters\n",
      "Original string: AAAABBBCCD\n",
      "Encoded data: 00000000000000100100101011\n",
      "Decoded data: AAAABBBCCD\n",
      "Original size: 59 bytes\n",
      "Encoded size: 28 bytes\n",
      "Compression ratio: 2.11\n",
      "\n"
     ]
    }
   ],
   "source": [
    "test_string = \"AAAABBBCCD\"\n",
    "print(\"Test Case 1: String with different frequency characters\")\n",
    "print(f\"Original string: {test_string}\")\n",
    "encoded_data, tree = huffman_encoding(test_string)\n",
    "print(f\"Encoded data: {encoded_data}\")\n",
    "decoded_data = huffman_decoding(encoded_data, tree)\n",
    "print(f\"Decoded data: {decoded_data}\")\n",
    "print(f\"Original size: {sys.getsizeof(test_string)} bytes\")\n",
    "print(f\"Encoded size: {sys.getsizeof(int(encoded_data, base=2))} bytes\")\n",
    "print(f\"Compression ratio: {sys.getsizeof(test_string)/sys.getsizeof(int(encoded_data, base=2)):.2f}\\n\")\n"
   ]
  },
  {
   "cell_type": "code",
   "execution_count": 29,
   "metadata": {},
   "outputs": [
    {
     "name": "stdout",
     "output_type": "stream",
     "text": [
      "Test Case 2: Empty string\n",
      "Original string: ''\n",
      "Encoded data: ''\n",
      "Decoded data: ''\n",
      "\n"
     ]
    }
   ],
   "source": [
    "test_string = \"\"\n",
    "print(\"Test Case 2: Empty string\")\n",
    "encoded_data, tree = huffman_encoding(test_string)\n",
    "print(f\"Original string: '{test_string}'\")\n",
    "print(f\"Encoded data: '{encoded_data}'\")\n",
    "decoded_data = huffman_decoding(encoded_data, tree)\n",
    "print(f\"Decoded data: '{decoded_data}'\\n\")"
   ]
  },
  {
   "cell_type": "code",
   "execution_count": 30,
   "metadata": {},
   "outputs": [
    {
     "name": "stdout",
     "output_type": "stream",
     "text": [
      "Test Case 3: String with a single repeated character\n",
      "Original string: AAAAAAAAAA\n",
      "Encoded data: 0000000000\n",
      "Decoded data: AAAAAAAAAA\n",
      "Original size: 59 bytes\n",
      "Encoded size: 28 bytes\n"
     ]
    }
   ],
   "source": [
    "test_string = \"AAAAAAAAAA\"\n",
    "print(\"Test Case 3: String with a single repeated character\")\n",
    "print(f\"Original string: {test_string}\")\n",
    "encoded_data, tree = huffman_encoding(test_string)\n",
    "print(f\"Encoded data: {encoded_data}\")\n",
    "decoded_data = huffman_decoding(encoded_data, tree)\n",
    "print(f\"Decoded data: {decoded_data}\")\n",
    "print(f\"Original size: {sys.getsizeof(test_string)} bytes\")\n",
    "print(f\"Encoded size: {sys.getsizeof(int(encoded_data, base=2) if encoded_data else 0)} bytes\")"
   ]
  }
 ],
 "metadata": {
  "kernelspec": {
   "display_name": "Python 3",
   "language": "python",
   "name": "python3"
  },
  "language_info": {
   "codemirror_mode": {
    "name": "ipython",
    "version": 3
   },
   "file_extension": ".py",
   "mimetype": "text/x-python",
   "name": "python",
   "nbconvert_exporter": "python",
   "pygments_lexer": "ipython3",
   "version": "3.11.6"
  }
 },
 "nbformat": 4,
 "nbformat_minor": 2
}
