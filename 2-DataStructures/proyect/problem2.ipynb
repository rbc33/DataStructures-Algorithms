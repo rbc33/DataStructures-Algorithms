{
 "cells": [
  {
   "cell_type": "code",
   "execution_count": null,
   "metadata": {},
   "outputs": [],
   "source": [
    "import os \n",
    "\n",
    "\n",
    "def find_files(suffix, path):\n",
    "    \"\"\"\n",
    "    Find all files beneath path with file name suffix.\n",
    "\n",
    "    Note that a path may contain further subdirectories\n",
    "    and those subdirectories may also contain further subdirectories.\n",
    "\n",
    "    There are no limit to the depth of the subdirectories can be.\n",
    "\n",
    "    Args:\n",
    "      suffix(str): suffix if the file name to be found\n",
    "      path(str): path of the file system\n",
    "    Returns:\n",
    "       a list of paths\n",
    "    \"\"\"\n",
    "    if not path:    return\n",
    "    file_list = []\n",
    "    dir_list= os.listdir(path)  \n",
    "    # Iterate over all the entries\n",
    "    for item in dir_list:\n",
    "        #build path\n",
    "        new_path = os.path.join(path, item)\n",
    "        #recursion base case\n",
    "        if os.path.isfile(new_path) and new_path.endswith(suffix):\n",
    "            file_list.append(new_path)\n",
    "        #if directory, then concatenate current list with all \n",
    "        #to be qualified files then recurse \n",
    "        elif os.path.isdir(new_path):\n",
    "            file_list+=find_files(suffix, new_path)\n",
    "                \n",
    "    return file_list \n",
    "    return None\n",
    "\n",
    "\n"
   ]
  },
  {
   "cell_type": "code",
   "execution_count": 30,
   "metadata": {},
   "outputs": [
    {
     "name": "stdout",
     "output_type": "stream",
     "text": [
      "None\n"
     ]
    }
   ],
   "source": [
    "## Test Case 1  No patg provided\n",
    "\n",
    "list_of_directories = find_files(\".h\", None)\n",
    "print(list_of_directories)"
   ]
  },
  {
   "cell_type": "code",
   "execution_count": null,
   "metadata": {},
   "outputs": [
    {
     "data": {
      "text/plain": [
       "['testdir/subdir3/subsubdir1/b.h',\n",
       " 'testdir/subdir5/a.h',\n",
       " 'testdir/t1.h',\n",
       " 'testdir/subdir1/a.h']"
      ]
     },
     "execution_count": 31,
     "metadata": {},
     "output_type": "execute_result"
    }
   ],
   "source": [
    "\n",
    "## Test Case 2 ./testdir\n",
    "find_files(\".h\", \"testdir\")"
   ]
  },
  {
   "cell_type": "code",
   "execution_count": 32,
   "metadata": {},
   "outputs": [
    {
     "data": {
      "text/plain": [
       "['testdir/subdir4/.gitkeep',\n",
       " 'testdir/subdir3/subsubdir1/b.h',\n",
       " 'testdir/subdir3/subsubdir1/b.c',\n",
       " 'testdir/t1.c',\n",
       " 'testdir/subdir2/.gitkeep',\n",
       " 'testdir/subdir5/a.h',\n",
       " 'testdir/subdir5/a.c',\n",
       " 'testdir/t1.h',\n",
       " 'testdir/subdir1/a.h',\n",
       " 'testdir/subdir1/a.c']"
      ]
     },
     "execution_count": 32,
     "metadata": {},
     "output_type": "execute_result"
    }
   ],
   "source": [
    "## Test Case 3 no given suffix\n",
    "find_files(\"\", \"testdir\")"
   ]
  }
 ],
 "metadata": {
  "kernelspec": {
   "display_name": "Python 3",
   "language": "python",
   "name": "python3"
  },
  "language_info": {
   "codemirror_mode": {
    "name": "ipython",
    "version": 3
   },
   "file_extension": ".py",
   "mimetype": "text/x-python",
   "name": "python",
   "nbconvert_exporter": "python",
   "pygments_lexer": "ipython3",
   "version": "3.11.6"
  }
 },
 "nbformat": 4,
 "nbformat_minor": 2
}
