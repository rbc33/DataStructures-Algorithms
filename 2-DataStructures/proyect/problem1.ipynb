{
 "cells": [
  {
   "cell_type": "code",
   "execution_count": null,
   "metadata": {},
   "outputs": [
    {
     "data": {
      "text/plain": [
       "True"
      ]
     },
     "metadata": {},
     "output_type": "display_data"
    }
   ],
   "source": [
    "from collections import deque\n",
    "class LRU_Cache(object):\n",
    "\n",
    "    def __init__(self, capacity):\n",
    "        # Initialize class variables\n",
    "        self.capacity = capacity\n",
    "        self.cache = {}  \n",
    "        self.order = deque()\n",
    "\n",
    "    def get(self, key):\n",
    "        # Retrieve item from provided key. Return -1 if nonexistent. \n",
    "        if self.capacity == 0:\n",
    "            return -1  # Changed from None to -1 for consistency\n",
    "        if key in self.cache:\n",
    "            # Update access order\n",
    "            self.order.remove(key)\n",
    "            self.order.appendleft(key)\n",
    "            return self.cache[key]\n",
    "        else:\n",
    "            return -1\n",
    "\n",
    "    def set(self, key, value):\n",
    "        # Set the value if the key is not present in the cache. If the cache is at capacity remove the oldest item. \n",
    "        if self.capacity == 0:\n",
    "            return\n",
    "            \n",
    "        if key in self.cache:\n",
    "            # Update existing key\n",
    "            self.cache[key] = value\n",
    "            self.order.remove(key)\n",
    "            self.order.appendleft(key)\n",
    "        else:\n",
    "            # Add new key\n",
    "            if len(self.cache) >= self.capacity:\n",
    "                # Remove least recently used item\n",
    "                old_key = self.order.pop()\n",
    "                del self.cache[old_key]\n",
    "            \n",
    "            # Add new item\n",
    "            self.cache[key] = value\n",
    "            self.order.appendleft(key)"
   ]
  },
  {
   "cell_type": "code",
   "execution_count": null,
   "metadata": {},
   "outputs": [],
   "source": [
    "our_cache = LRU_Cache(5)\n",
    "\n",
    "our_cache.set(1, 1);\n",
    "our_cache.set(2, 2);\n",
    "our_cache.set(3, 3);\n",
    "our_cache.set(4, 4);\n",
    "\n",
    "\n",
    "print(\"Should return: 1 -> \", our_cache.get(1))       # returns 1\n",
    "print(\"Should return: 2 -> \", our_cache.get(2))       # returns 2\n",
    "print(\"Should return: -1 -> \", our_cache.get(9))      # returns -1 because 9 is not present in the cache\n",
    "\n",
    "our_cache.set(5, 5) \n",
    "our_cache.set(6, 6)\n",
    "\n",
    "print(\"Should return: -1 -> \", our_cache.get(3))      # returns -1 because the cache reached it's capacity and 3 was the least recently used entry"
   ]
  },
  {
   "cell_type": "code",
   "execution_count": null,
   "metadata": {},
   "outputs": [],
   "source": [
    "def test_function(test_case):\n",
    "    cache = test_case[0]\n",
    "    operations = test_case[1]\n",
    "    expected = test_case[2]\n",
    "    \n",
    "    results = []\n",
    "    \n",
    "    for op in operations:\n",
    "        if op[0] == \"get\":\n",
    "            results.append(cache.get(op[1]))\n",
    "        elif op[0] == \"set\":\n",
    "            cache.set(op[1], op[2])\n",
    "    \n",
    "    if results == expected:\n",
    "        print(\"Pass\")\n",
    "    else:\n",
    "        print(\"Fail\")"
   ]
  },
  {
   "cell_type": "code",
   "execution_count": null,
   "metadata": {},
   "outputs": [],
   "source": [
    "cache1 = LRU_Cache(5)\n",
    "operations1 = [\n",
    "    [\"set\", 1, 1],\n",
    "    [\"set\", 2, 2],\n",
    "    [\"get\", 1],\n",
    "    [\"get\", 2],\n",
    "    [\"get\", 3]\n",
    "]\n",
    "expected1 = [1, 2, -1]\n",
    "test_case1 = [cache1, operations1, expected1]\n",
    "test_function(test_case1)"
   ]
  },
  {
   "cell_type": "code",
   "execution_count": null,
   "metadata": {},
   "outputs": [],
   "source": [
    "cache2 = LRU_Cache(2)\n",
    "operations2 = [\n",
    "    [\"set\", 1, 1],\n",
    "    [\"set\", 2, 2],\n",
    "    [\"set\", 3, 3],\n",
    "    [\"get\", 1],\n",
    "    [\"get\", 2],\n",
    "    [\"get\", 3]\n",
    "]\n",
    "expected2 = [-1, 2, 3]\n",
    "test_case2 = [cache2, operations2, expected2]\n",
    "test_function(test_case2)"
   ]
  },
  {
   "cell_type": "code",
   "execution_count": null,
   "metadata": {},
   "outputs": [],
   "source": [
    "# For a cache with capacity 0, we should handle the empty list case\n",
    "cache3 = LRU_Cache(0)\n",
    "operations3 = [\n",
    "    [\"set\", 1, 1],\n",
    "    [\"get\", 1],\n",
    "    [\"set\", 2, 2],\n",
    "    [\"get\", 2]\n",
    "]\n",
    "expected3 = [-1, -1]  # All get operations should return -1 since nothing can be stored\n",
    "test_case3 = [cache3, operations3, expected3]\n",
    "test_function(test_case3)"
   ]
  }
 ],
 "metadata": {
  "kernelspec": {
   "display_name": "Python 3",
   "language": "python",
   "name": "python3"
  },
  "language_info": {
   "name": "python",
   "version": "3.11.6"
  }
 },
 "nbformat": 4,
 "nbformat_minor": 2
}
