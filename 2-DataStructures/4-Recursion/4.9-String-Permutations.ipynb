{
 "cells": [
  {
   "cell_type": "markdown",
   "metadata": {
    "graffitiCellId": "id_3ajxm94"
   },
   "source": [
    "### Problem Statement\n",
    "\n",
    "Given an input string, return all permutations of the string in an array.\n",
    "\n",
    "**Example 1:**\n",
    "* `string = 'ab'`\n",
    "* `output = ['ab', 'ba']`\n",
    "\n",
    "**Example 2:**\n",
    "* `string = 'abc'`\n",
    "* `output = ['abc', 'bac', 'bca', 'acb', 'cab', 'cba']`\n",
    "---\n",
    "\n",
    "#### Note - Strings are Immutable \n",
    "Strings in Python are immutable, whch means that we cannot overwrite the characters of the String objects. For example:\n",
    "```\n",
    "str1 = \"Hello\"\n",
    "str1[0] = 'K'                         # Try changing the first character\n",
    "```\n",
    "will lead to \n",
    "```\n",
    "TypeError: 'str' object does not support item assignment\n",
    "```\n",
    "    \n",
    "We can only re-assign the variable to a new value (string), as follows:\n",
    "```\n",
    "str1 = \"Udacity\"                      # re-assignment\n",
    "str2 = \"Welcome to the \" + str1[3:]   # Returns 'Welcome to the city'\n",
    "```\n",
    "**Therefore, we do not require a deep copy in this exercise, as it was the case in our last example of list permutation.** \n",
    "\n",
    "---\n",
    "\n",
    "**The Idea**<br>\n",
    "Starting with a blank list, add each character of original input string at all possible positions. <br><br>\n",
    "\n",
    "For example, take `\"abc\"` as the original string:<br>\n",
    "\n",
    "1. Start with a blank `list()` object. This is actually the last call of recursive function stack. Pick a character `'c'` of original string, making the output as `['c']`<br><br>\n",
    "\n",
    "2. Pick next character `b` of original input string, and place the current character at different indices of the each sub-string of previous output. **We can make use of the sub-string of previous output, to create a new sub-string.** Now, the output will become `['bc', 'cb']`.<br><br>\n",
    "\n",
    "3. Pick next character `a` of original input string, and place the current character at different indices of the each sub-string of previous output. Now, the output will become `['abc', 'bac', 'bca', 'acb', 'cab', 'cba']`. .<br><br>\n",
    "---\n",
    "### Exercise - Write the function definition here\n"
   ]
  },
  {
   "cell_type": "code",
   "execution_count": null,
   "metadata": {
    "graffitiCellId": "id_nv5urta"
   },
   "outputs": [],
   "source": [
    "def permutations(string):\n",
    "    \"\"\"\n",
    "    :param: input string\n",
    "    Return - list of all permutations of the input string\n",
    "    TODO: complete this function to return a list of all permutations of the string\n",
    "    \"\"\"\n",
    "    finalCompoundList = []                  # compoundList to be returned \n",
    "    \n",
    "    # Terminaiton / Base condition\n",
    "    if len(string) == 0:\n",
    "        finalCompoundList.append(\"\")\n",
    "        \n",
    "    else:\n",
    "        first_element = string[0]        # Pick one element to be permuted\n",
    "        after_first = slice(1, None)        # `after_first` is an object of type 'slice' class\n",
    "        rest_list = string[after_first]  # convert the `slice` object into a list\n",
    "        \n",
    "        # Recursive function call\n",
    "        sub_compoundList = permutations(rest_list)\n",
    "        \n",
    "        # Iterate through all lists of the compoundList returned from previous call\n",
    "        for aList in sub_compoundList:\n",
    "            \n",
    "            # Permuted the `first_element` at all positions 0, 1, 2 ... len(aList) in each iteration\n",
    "            for j in range(0, len(aList) + 1): \n",
    "                \n",
    "                # A normal copy/assignment will change aList[j] element\n",
    "                bList = copy.deepcopy(aList)  \n",
    "                \n",
    "                # A new list with size +1 as compared to aList\n",
    "                # is created by inserting the `first_element` at position j in bList\n",
    "                bList.insert(j, first_element)\n",
    "                \n",
    "                # Append the newly created list to the finalCompoundList\n",
    "                finalCompoundList.append(bList)\n",
    "                \n",
    "    return finalCompoundList"
   ]
  },
  {
   "cell_type": "markdown",
   "metadata": {
    "graffitiCellId": "id_2d0q2u5"
   },
   "source": [
    "<span class=\"graffiti-highlight graffiti-id_2d0q2u5-id_vkbq25t\"><i></i><button>Show Solution</button></span>"
   ]
  },
  {
   "cell_type": "markdown",
   "metadata": {
    "graffitiCellId": "id_bmpcwu8"
   },
   "source": [
    "### Test - Let's test your function"
   ]
  },
  {
   "cell_type": "code",
   "execution_count": 5,
   "metadata": {
    "graffitiCellId": "id_mhqifv4"
   },
   "outputs": [],
   "source": [
    "def test_function(test_case):\n",
    "    string = test_case[0]\n",
    "    solution = test_case[1]\n",
    "    output = permutations(string)\n",
    "    \n",
    "    output.sort()\n",
    "    solution.sort()\n",
    "    \n",
    "    if output == solution:\n",
    "        print(\"Pass\")\n",
    "    else:\n",
    "        print(\"Fail\")"
   ]
  },
  {
   "cell_type": "code",
   "execution_count": 6,
   "metadata": {
    "graffitiCellId": "id_tfd0a1l"
   },
   "outputs": [
    {
     "ename": "NameError",
     "evalue": "name 'copy' is not defined",
     "output_type": "error",
     "traceback": [
      "\u001b[31m---------------------------------------------------------------------------\u001b[39m",
      "\u001b[31mNameError\u001b[39m                                 Traceback (most recent call last)",
      "\u001b[36mCell\u001b[39m\u001b[36m \u001b[39m\u001b[32mIn[6]\u001b[39m\u001b[32m, line 4\u001b[39m\n\u001b[32m      2\u001b[39m solution = [\u001b[33m'\u001b[39m\u001b[33mab\u001b[39m\u001b[33m'\u001b[39m, \u001b[33m'\u001b[39m\u001b[33mba\u001b[39m\u001b[33m'\u001b[39m]\n\u001b[32m      3\u001b[39m test_case = [string, solution]\n\u001b[32m----> \u001b[39m\u001b[32m4\u001b[39m \u001b[43mtest_function\u001b[49m\u001b[43m(\u001b[49m\u001b[43mtest_case\u001b[49m\u001b[43m)\u001b[49m\n",
      "\u001b[36mCell\u001b[39m\u001b[36m \u001b[39m\u001b[32mIn[5]\u001b[39m\u001b[32m, line 4\u001b[39m, in \u001b[36mtest_function\u001b[39m\u001b[34m(test_case)\u001b[39m\n\u001b[32m      2\u001b[39m string = test_case[\u001b[32m0\u001b[39m]\n\u001b[32m      3\u001b[39m solution = test_case[\u001b[32m1\u001b[39m]\n\u001b[32m----> \u001b[39m\u001b[32m4\u001b[39m output = \u001b[43mpermutations\u001b[49m\u001b[43m(\u001b[49m\u001b[43mstring\u001b[49m\u001b[43m)\u001b[49m\n\u001b[32m      6\u001b[39m output.sort()\n\u001b[32m      7\u001b[39m solution.sort()\n",
      "\u001b[36mCell\u001b[39m\u001b[36m \u001b[39m\u001b[32mIn[4]\u001b[39m\u001b[32m, line 19\u001b[39m, in \u001b[36mpermutations\u001b[39m\u001b[34m(string)\u001b[39m\n\u001b[32m     16\u001b[39m rest_list = string[after_first]  \u001b[38;5;66;03m# convert the `slice` object into a list\u001b[39;00m\n\u001b[32m     18\u001b[39m \u001b[38;5;66;03m# Recursive function call\u001b[39;00m\n\u001b[32m---> \u001b[39m\u001b[32m19\u001b[39m sub_compoundList = \u001b[43mpermutations\u001b[49m\u001b[43m(\u001b[49m\u001b[43mrest_list\u001b[49m\u001b[43m)\u001b[49m\n\u001b[32m     21\u001b[39m \u001b[38;5;66;03m# Iterate through all lists of the compoundList returned from previous call\u001b[39;00m\n\u001b[32m     22\u001b[39m \u001b[38;5;28;01mfor\u001b[39;00m aList \u001b[38;5;129;01min\u001b[39;00m sub_compoundList:\n\u001b[32m     23\u001b[39m     \n\u001b[32m     24\u001b[39m     \u001b[38;5;66;03m# Permuted the `first_element` at all positions 0, 1, 2 ... len(aList) in each iteration\u001b[39;00m\n",
      "\u001b[36mCell\u001b[39m\u001b[36m \u001b[39m\u001b[32mIn[4]\u001b[39m\u001b[32m, line 28\u001b[39m, in \u001b[36mpermutations\u001b[39m\u001b[34m(string)\u001b[39m\n\u001b[32m     22\u001b[39m \u001b[38;5;28;01mfor\u001b[39;00m aList \u001b[38;5;129;01min\u001b[39;00m sub_compoundList:\n\u001b[32m     23\u001b[39m     \n\u001b[32m     24\u001b[39m     \u001b[38;5;66;03m# Permuted the `first_element` at all positions 0, 1, 2 ... len(aList) in each iteration\u001b[39;00m\n\u001b[32m     25\u001b[39m     \u001b[38;5;28;01mfor\u001b[39;00m j \u001b[38;5;129;01min\u001b[39;00m \u001b[38;5;28mrange\u001b[39m(\u001b[32m0\u001b[39m, \u001b[38;5;28mlen\u001b[39m(aList) + \u001b[32m1\u001b[39m): \n\u001b[32m     26\u001b[39m         \n\u001b[32m     27\u001b[39m         \u001b[38;5;66;03m# A normal copy/assignment will change aList[j] element\u001b[39;00m\n\u001b[32m---> \u001b[39m\u001b[32m28\u001b[39m         bList = \u001b[43mcopy\u001b[49m.deepcopy(aList)  \n\u001b[32m     30\u001b[39m         \u001b[38;5;66;03m# A new list with size +1 as compared to aList\u001b[39;00m\n\u001b[32m     31\u001b[39m         \u001b[38;5;66;03m# is created by inserting the `first_element` at position j in bList\u001b[39;00m\n\u001b[32m     32\u001b[39m         bList.insert(j, first_element)\n",
      "\u001b[31mNameError\u001b[39m: name 'copy' is not defined"
     ]
    }
   ],
   "source": [
    "string = 'ab'\n",
    "solution = ['ab', 'ba']\n",
    "test_case = [string, solution]\n",
    "test_function(test_case)"
   ]
  },
  {
   "cell_type": "code",
   "execution_count": null,
   "metadata": {
    "graffitiCellId": "id_j5hyexv"
   },
   "outputs": [],
   "source": [
    "string = 'abc'\n",
    "output = ['abc', 'bac', 'bca', 'acb', 'cab', 'cba']\n",
    "test_case = [string, output]\n",
    "test_function(test_case)"
   ]
  },
  {
   "cell_type": "code",
   "execution_count": null,
   "metadata": {
    "graffitiCellId": "id_5e53dq2"
   },
   "outputs": [],
   "source": [
    "string = 'abcd'\n",
    "output = ['abcd', 'bacd', 'bcad', 'bcda', 'acbd', 'cabd', 'cbad', 'cbda', 'acdb', 'cadb', 'cdab', 'cdba', 'abdc', 'badc', 'bdac', 'bdca', 'adbc', 'dabc', 'dbac', 'dbca', 'adcb', 'dacb', 'dcab', 'dcba']\n",
    "test_case = [string, output]\n",
    "test_function(test_case)"
   ]
  }
 ],
 "metadata": {
  "graffiti": {
   "firstAuthorId": "dev",
   "id": "id_lyhj8gh",
   "language": "EN"
  },
  "kernelspec": {
   "display_name": "Python 3",
   "language": "python",
   "name": "python3"
  },
  "language_info": {
   "codemirror_mode": {
    "name": "ipython",
    "version": 3
   },
   "file_extension": ".py",
   "mimetype": "text/x-python",
   "name": "python",
   "nbconvert_exporter": "python",
   "pygments_lexer": "ipython3",
   "version": "3.11.6"
  }
 },
 "nbformat": 4,
 "nbformat_minor": 2
}
