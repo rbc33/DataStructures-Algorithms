{
 "cells": [
  {
   "cell_type": "markdown",
   "metadata": {
    "graffitiCellId": "id_pxg59hb"
   },
   "source": [
    "# Coin Change\n",
    "\n",
    "You are given coins of different denominations and a total amount of money. Write a function to compute the fewest coins needed to make up that amount. If that amount of money cannot be made up by any combination of the coins, return `-1`.\n",
    "\n",
    "As an example:\n",
    "* Input: `coins = [1, 2, 3]`, `amount = 6`\n",
    "* Output: `2`\n",
    "* Explanation: The output is `2` because we can use `2` coins with value `3`. That is, `6 = 3 + 3`. We could also use `3` coins with value `2` (that is, `6 = 2 + 2 + 2`), but this would use more coins—and the problem specifies we should use the smallest number of coins possible.\n",
    "\n",
    "There's test code below that you can use to check your solution. And at the bottom of the notebook, you'll find two different possible solutions."
   ]
  },
  {
   "cell_type": "code",
   "execution_count": 13,
   "metadata": {
    "graffitiCellId": "id_n12iz5t"
   },
   "outputs": [],
   "source": [
    "from collections import deque\n",
    "def coin_change(coins, amount):\n",
    "\n",
    "    # TODO: Complete the coin_change function\n",
    "    # This should return one value: the fewest coins needed to make up the given amount\n",
    "    # initiate the list with length amount + 1 and prefill with float('inf')\n",
    "    res = [float('inf')]*(amount + 1)\n",
    "    \n",
    "    # when amount = 0, 0 number of coins will be needed for the change\n",
    "    res[0] = 0\n",
    "    i = 0\n",
    "    while i < amount:\n",
    "        if res[i] != float(\"inf\"):\n",
    "            for coin in coins:\n",
    "                if i + coin <= amount:\n",
    "                    res[i+coin] = min(res[i+coin], res[i]+1)\n",
    "        i +=1\n",
    "    if res[amount] != float(\"inf\"):\n",
    "        return res[amount]\n",
    "    else:\n",
    "         return -1\n",
    "    \n"
   ]
  },
  {
   "cell_type": "markdown",
   "metadata": {},
   "source": [
    "Esta solución utiliza programación dinámica para resolver el problema del cambio de monedas. Voy a explicar paso a paso cómo funciona:\n",
    "\n",
    "1. Primero, crea un array `res` de tamaño `amount + 1` inicializado con `float('inf')` (infinito). Cada posición `res[i]` representará el número mínimo de monedas necesarias para formar la cantidad `i`.\n",
    "\n",
    "2. Establece `res[0] = 0` porque se necesitan 0 monedas para formar una cantidad de 0.\n",
    "\n",
    "3. Luego, itera desde `i = 0` hasta `amount - 1`:\n",
    "   - Si `res[i]` no es infinito (es decir, es posible formar la cantidad `i`):\n",
    "     - Para cada moneda disponible:\n",
    "       - Si `i + coin` no excede el monto total:\n",
    "         - Actualiza `res[i+coin]` tomando el mínimo entre:\n",
    "           - El valor actual de `res[i+coin]`\n",
    "           - `res[i] + 1` (usar una moneda adicional)\n",
    "\n",
    "4. Finalmente:\n",
    "   - Si `res[amount]` sigue siendo infinito, significa que no es posible formar la cantidad con las monedas disponibles, así que devuelve -1.\n",
    "   - De lo contrario, devuelve `res[amount]`, que es el número mínimo de monedas necesarias.\n",
    "\n",
    "La idea clave es que construye soluciones para cantidades más pequeñas primero, y luego usa esas soluciones para resolver cantidades mayores, evitando recalcular subproblemas ya resueltos."
   ]
  },
  {
   "cell_type": "code",
   "execution_count": 5,
   "metadata": {
    "graffitiCellId": "id_g1vpolv"
   },
   "outputs": [],
   "source": [
    "def test_function(test_case):\n",
    "    arr = test_case[0]\n",
    "    amount = test_case[1]\n",
    "    solution = test_case[2]\n",
    "    output = coin_change(arr, amount)\n",
    "    if output == solution:\n",
    "        print(\"Pass\")\n",
    "    else:\n",
    "        print(\"Fail\")"
   ]
  },
  {
   "cell_type": "code",
   "execution_count": 12,
   "metadata": {
    "graffitiCellId": "id_cqdyyun"
   },
   "outputs": [
    {
     "name": "stdout",
     "output_type": "stream",
     "text": [
      "Fail\n"
     ]
    }
   ],
   "source": [
    "arr = [1,2,5]\n",
    "amount = 11\n",
    "solution = 3\n",
    "test_case = [arr, amount, solution]\n",
    "test_function(test_case)"
   ]
  },
  {
   "cell_type": "code",
   "execution_count": 11,
   "metadata": {
    "graffitiCellId": "id_91p1cz0"
   },
   "outputs": [
    {
     "name": "stdout",
     "output_type": "stream",
     "text": [
      "Fail\n"
     ]
    }
   ],
   "source": [
    "arr = [1,4,5,6]\n",
    "amount = 23\n",
    "solution = 4\n",
    "test_case = [arr, amount, solution]\n",
    "test_function(test_case)"
   ]
  },
  {
   "cell_type": "code",
   "execution_count": 14,
   "metadata": {
    "graffitiCellId": "id_mo17gzo"
   },
   "outputs": [
    {
     "name": "stdout",
     "output_type": "stream",
     "text": [
      "Pass\n"
     ]
    }
   ],
   "source": [
    "arr = [5,7,8]\n",
    "amount = 2\n",
    "solution = -1\n",
    "test_case = [arr, amount, solution]\n",
    "test_function(test_case)"
   ]
  },
  {
   "cell_type": "markdown",
   "metadata": {
    "graffitiCellId": "id_jjdrdzm"
   },
   "source": [
    "## Solutions\n",
    "\n",
    "Let's look at two different solutions. Here's one way to do it...\n",
    "\n",
    "<span class=\"graffiti-highlight graffiti-id_jjdrdzm-id_fpk926y\"><i></i><button>Show Solution One</button></span>"
   ]
  },
  {
   "cell_type": "markdown",
   "metadata": {
    "graffitiCellId": "id_om55y5v"
   },
   "source": [
    "And here's another possibility:\n",
    "\n",
    "<span class=\"graffiti-highlight graffiti-id_bmrwntc-id_9z3z0e0\"><i></i><button>Hide Solution Two</button></span>"
   ]
  },
  {
   "cell_type": "code",
   "execution_count": null,
   "metadata": {
    "graffitiCellId": "id_9z3z0e0"
   },
   "outputs": [],
   "source": [
    "# Solution Two\n",
    "\n",
    "# We initiate F[Amount] to be float('inf') and F[0] = 0\n",
    "# Let F[Amount] to be the minimum number of coins needed to get change for the Amount.\n",
    "# F[Amount + coin] = min(F(Amount + coin), F(Amount) + 1) if F[Amount] is reachable.\n",
    "# F[Amount + coin] = F(Amount + coin) if F[Amount] is not reachable.\n",
    "\n",
    "def coin_change(coins, amount):\n",
    "    # initiate the list with length amount + 1 and prefill with float('inf')\n",
    "    res = [float('inf')]*(amount + 1)\n",
    "    \n",
    "    # when amount = 0, 0 number of coins will be needed for the change\n",
    "    res[0] = 0\n",
    "    \n",
    "    i = 0\n",
    "    while (i < amount):\n",
    "        if res[i] != float('inf'):\n",
    "            for coin in coins:\n",
    "                if i <= amount - coin:\n",
    "                    res[i+coin] = min(res[i] + 1, res[i+coin])\n",
    "        i += 1\n",
    "\n",
    "    if res[amount] == float('inf'):\n",
    "        return -1\n",
    "    return res[amount]\n",
    "        \n"
   ]
  },
  {
   "cell_type": "markdown",
   "metadata": {},
   "source": [
    "Esta solución utiliza programación dinámica para resolver el problema del cambio de monedas. Voy a explicar paso a paso cómo funciona:\n",
    "\n",
    "1. Primero, crea un array `res` de tamaño `amount + 1` inicializado con `float('inf')` (infinito). Cada posición `res[i]` representará el número mínimo de monedas necesarias para formar la cantidad `i`.\n",
    "\n",
    "2. Establece `res[0] = 0` porque se necesitan 0 monedas para formar una cantidad de 0.\n",
    "\n",
    "3. Luego, itera desde `i = 0` hasta `amount - 1`:\n",
    "   - Si `res[i]` no es infinito (es decir, es posible formar la cantidad `i`):\n",
    "     - Para cada moneda disponible:\n",
    "       - Si `i + coin` no excede el monto total:\n",
    "         - Actualiza `res[i+coin]` tomando el mínimo entre:\n",
    "           - El valor actual de `res[i+coin]`\n",
    "           - `res[i] + 1` (usar una moneda adicional)\n",
    "\n",
    "4. Finalmente:\n",
    "   - Si `res[amount]` sigue siendo infinito, significa que no es posible formar la cantidad con las monedas disponibles, así que devuelve -1.\n",
    "   - De lo contrario, devuelve `res[amount]`, que es el número mínimo de monedas necesarias.\n",
    "\n",
    "La idea clave es que construye soluciones para cantidades más pequeñas primero, y luego usa esas soluciones para resolver cantidades mayores, evitando recalcular subproblemas ya resueltos."
   ]
  },
  {
   "cell_type": "code",
   "execution_count": null,
   "metadata": {
    "graffitiCellId": "id_fpk926y"
   },
   "outputs": [],
   "source": [
    "# Solution One\n",
    "\n",
    "# Let's assume F(Amount) is the minimum number of coins needed to make a change from coins [C0, C1, C2...Cn-1]\n",
    "# Then, we know that F(Amount) = min(F(Amount-C0), F(Amount-C1), F(Amount-C2)...F(Amount-Cn-1)) + 1\n",
    "\n",
    "# Base Cases: \n",
    "    # when Amount == 0: F(Amount) = 0\n",
    "    # when Amount < 0: F(Amount) =  float('inf')\n",
    "\n",
    "def coin_change(coins, amount):\n",
    "    # Create a memo that will storing the fewest coins with given amount\n",
    "    # that we have already calculated so that we do not have to do the\n",
    "    # calculation again.\n",
    "    memo = {}\n",
    "    \n",
    "    def return_change(remaining):\n",
    "        # Base cases\n",
    "        if remaining < 0:  return float('inf')\n",
    "        if remaining == 0: return 0 \n",
    "        \n",
    "        # Check if we have already calculated\n",
    "        if remaining not in memo:\n",
    "            # If not previously calculated, calculate it by calling return_change with the remaining amount\n",
    "            memo[remaining] = min(return_change(remaining - c) + 1 for c in coins)\n",
    "        return memo[remaining]\n",
    "    \n",
    "    res = return_change(amount)\n",
    "    \n",
    "    # return -1 when no change found\n",
    "    return -1 if res == float('inf') else res\n"
   ]
  },
  {
   "cell_type": "markdown",
   "metadata": {},
   "source": [
    "Esta solución utiliza programación dinámica con memoización (top-down approach) para resolver el problema del cambio de monedas. Voy a explicar cómo funciona:\n",
    "\n",
    "1. La función principal `coin_change` crea un diccionario `memo` para almacenar resultados ya calculados.\n",
    "\n",
    "2. Define una función interna `return_change` que calcula recursivamente el número mínimo de monedas necesarias:\n",
    "   - Si `remaining < 0`: Devuelve infinito (caso imposible)\n",
    "   - Si `remaining == 0`: Devuelve 0 (no se necesitan monedas)\n",
    "   - Si ya calculamos el resultado para `remaining`, lo devuelve directamente del memo\n",
    "   - Si no, calcula el mínimo número de monedas probando cada moneda disponible\n",
    "\n",
    "3. La línea clave es:\n",
    "   ```python\n",
    "   memo[remaining] = min(return_change(remaining - c) + 1 for c in coins)\n",
    "   ```\n",
    "   Esto prueba restar cada moneda del monto restante, y elige la opción que requiere menos monedas.\n",
    "\n",
    "4. Finalmente, verifica si hay una solución válida:\n",
    "   - Si el resultado es infinito, devuelve -1 (no hay solución)\n",
    "   - De lo contrario, devuelve el número mínimo de monedas\n",
    "\n",
    "Esta solución es eficiente porque:\n",
    "- Usa memoización para evitar recalcular subproblemas\n",
    "- Explora todas las combinaciones posibles de monedas\n",
    "- Maneja correctamente los casos donde no hay solución\n",
    "\n",
    "Es una implementación elegante que utiliza recursión con memoización, a diferencia de la solución anterior que usaba un enfoque iterativo (bottom-up)."
   ]
  }
 ],
 "metadata": {
  "graffiti": {
   "firstAuthorId": "10694620118",
   "id": "id_0hxxyvu",
   "language": "EN"
  },
  "kernelspec": {
   "display_name": "Python 3",
   "language": "python",
   "name": "python3"
  },
  "language_info": {
   "codemirror_mode": {
    "name": "ipython",
    "version": 3
   },
   "file_extension": ".py",
   "mimetype": "text/x-python",
   "name": "python",
   "nbconvert_exporter": "python",
   "pygments_lexer": "ipython3",
   "version": "3.11.6"
  }
 },
 "nbformat": 4,
 "nbformat_minor": 2
}
