{
 "cells": [
  {
   "cell_type": "markdown",
   "metadata": {
    "graffitiCellId": "id_afkw8pd"
   },
   "source": [
    "# Knapsack Problem\n",
    "Now that you saw the dynamic programming solution for the knapsack problem, it's time to implement it. Assume you are given two things:\n",
    "1. The `items`, each having its associated weight (kg) and value ($\\$$). \n",
    "1. A knapsack  that can hold a maximum weight of `knapsack_max_weight` (kg).\n",
    "\n",
    "Use dynamic programming to implement the function `knapsack_max_value()` to **return the maximum total value**  of items that can be accommodated into the given knapsack.\n",
    "\n",
    "\n",
    "**Note** - The `items` variable is the type `Item`, which is a [named tuple](https://docs.python.org/3/library/collections.html#collections.namedtuple)."
   ]
  },
  {
   "cell_type": "code",
   "execution_count": 1,
   "metadata": {
    "graffitiCellId": "id_epldr9d"
   },
   "outputs": [],
   "source": [
    "# Helper code\n",
    "import collections\n",
    "\n",
    "# An item can be represented as a namedtuple\n",
    "Item = collections.namedtuple('Item', ['weight', 'value'])"
   ]
  },
  {
   "cell_type": "markdown",
   "metadata": {
    "graffitiCellId": "id_hi7z6d8"
   },
   "source": [
    "\n",
    "### The Naive Approach - Based on Recursion:\n",
    "The idea is, for each given item, if the item-weight is less than the remaining capacity (kg) of the knapsack, then calculate the value ($\\$$) of the knapsack if we:\n",
    "1. **Do not put the item in the knapsack** - Value ($\\$$) of the knapsack will be the output of the `knapsack_recursive()` function, with the same remaining capacity, and check for the next item down the list.  \n",
    "1. **Put the item in the knapsack** - Value ($\\$$) of the knapsack will be the **sum** of the current value of the item and output of the `knapsack_recursive()` function,  with **updated** remaining capacity, and check for the next item down the list.  \n",
    "\n",
    "Return the **maximum of either of the above two values**. In `knapsack_recursive()` function, begin with developing the solution for the base case i.e., smallest subproblem. \n",
    "\n",
    "**Note** - Below is the implementation of this naive approach with recursion, that has an exponential time complexity as $O(2^n)$, where $n$ is the number of given items, becuase we are evaluating both the two options (put/not put) for each given item."
   ]
  },
  {
   "cell_type": "code",
   "execution_count": 2,
   "metadata": {
    "graffitiCellId": "id_3gizrc0"
   },
   "outputs": [],
   "source": [
    "# Naive Approach based on Recursion\n",
    "def knapsack_max_value(knapsack_max_weight, items):\n",
    "    lastIndex = len(items) - 1\n",
    "    return knapsack_recursive(knapsack_max_weight, items, lastIndex)\n",
    "\n",
    "\n",
    "def knapsack_recursive(capacity, items, lastIndex):\n",
    "    # Base case\n",
    "    if (capacity <= 0) or (lastIndex<0):\n",
    "        return 0\n",
    "    \n",
    "    # Put the item in the knapsack\n",
    "    valueA = 0\n",
    "    if (items[lastIndex].weight <= capacity):\n",
    "        valueA = items[lastIndex].value + knapsack_recursive(capacity - items[lastIndex].weight, items, lastIndex - 1)\n",
    "\n",
    "    \n",
    "    # Do not put the item in the knapsack\n",
    "    valueB = knapsack_recursive(capacity, items, lastIndex - 1)\n",
    "    \n",
    "    # Pick the maximum of the two results\n",
    "    result = max(valueA, valueB)\n",
    "    \n",
    "    return result"
   ]
  },
  {
   "cell_type": "markdown",
   "metadata": {
    "graffitiCellId": "id_hzdbfpj"
   },
   "source": [
    "### The Approach - Dynamic Programming\n",
    "Store and reuse the intermediate results in a lookup table. This step is called memoization. Start with initializing a lookup table (a list), where the index represents the remaining capacity (kg) of the knapsack, and the element represents the maximum value ($\\$$) that it can hold. \n",
    "\n",
    "For a given item, if the item-weight is less than the remaining capacity (kg) of the knapsack, then we have two options:\n",
    "1. **Do not pick the item** - In this case, the value ($\\$$) of knapsack with the remaining capacity would not change. It can be represented as `lookup_table[capacity]`.\n",
    "1. **Pick the item** - In this case, the value ($\\$$) and capacity (kg) of the knapsack would be updated. The value ($\\$$) of the knapsack will be equal to value ($\\$$) of the current object + value ($\\$$) in the lookup table at `[capacity - item.weight]` position. It can be represented as `lookup_table[capacity - item.weight] + item.value`. \n",
    "\n",
    "Update the lookup table, `lookup_table[capacity]`,  with the **maximum of either of the above two values**.  \n",
    "\n",
    "**Note** - This approach with dynamic programming will have a time complexity as $O(2nC) \\equiv O(nC)$, where $n$ is the number of given items and $C$ is the max capacity (kg) of the knapsack. "
   ]
  },
  {
   "cell_type": "markdown",
   "metadata": {
    "graffitiCellId": "id_49eh9ss"
   },
   "source": [
    "### Exercise - Write the function definition here"
   ]
  },
  {
   "cell_type": "code",
   "execution_count": 10,
   "metadata": {
    "graffitiCellId": "id_p48fhwc"
   },
   "outputs": [],
   "source": [
    "def knapsack_max_value(knapsack_max_weight, items):\n",
    "    \"\"\"\n",
    "    Get the maximum value of the knapsack.\n",
    "    \"\"\"\n",
    "    lookup_table = [0] * (knapsack_max_weight +1)\n",
    "    for item in items:\n",
    "        for capacity in reversed(range(knapsack_max_weight +1)):\n",
    "            if item.weight <= capacity:\n",
    "                lookup_table[capacity]= max(lookup_table[capacity], lookup_table[capacity - item.weight]+item.value) \n",
    "    return lookup_table[-1]\n",
    "    pass"
   ]
  },
  {
   "cell_type": "markdown",
   "metadata": {
    "graffitiCellId": "id_sczu399"
   },
   "source": [
    "<span class=\"graffiti-highlight graffiti-id_sczu399-id_vljhmf7\"><i></i><button>Hide Solution</button></span>"
   ]
  },
  {
   "cell_type": "code",
   "execution_count": 4,
   "metadata": {
    "graffitiCellId": "id_vljhmf7"
   },
   "outputs": [],
   "source": [
    "# DP Solution\n",
    "# Get the maximum total value ($) of items that can be accommodated into the given knapsack\n",
    "def knapsack_max_value(knapsack_max_weight, items):\n",
    "    \n",
    "    # Initialize a lookup table to store the maximum value ($) \n",
    "    lookup_table = [0] * (knapsack_max_weight + 1)\n",
    "\n",
    "\n",
    "    # Iterate down the given list\n",
    "    for item in items:\n",
    "        \n",
    "        # The \"capcacity\" represents amount of remaining capacity (kg) of knapsack at a given moment. \n",
    "        for capacity in reversed(range(knapsack_max_weight + 1)):\n",
    "            \n",
    "            if item.weight <= capacity:\n",
    "                lookup_table[capacity] = max(lookup_table[capacity], lookup_table[capacity - item.weight] + item.value)\n",
    "\n",
    "    return lookup_table[-1]"
   ]
  },
  {
   "cell_type": "markdown",
   "metadata": {},
   "source": [
    "Este código implementa una solución al problema de la mochila (Knapsack Problem) utilizando programación dinámica con un enfoque optimizado de espacio.\n",
    "\n",
    "La función `knapsack_max_value` funciona así:\n",
    "\n",
    "1. Crea un array unidimensional `lookup_table` de tamaño `knapsack_max_weight + 1`, inicializado con ceros. Cada posición `lookup_table[i]` representa el valor máximo que se puede obtener con una capacidad de mochila de `i` kg.\n",
    "\n",
    "2. Para cada item en la lista de items:\n",
    "   - Recorre las capacidades en orden inverso (de mayor a menor)\n",
    "   - Si el peso del item es menor o igual a la capacidad actual, decide si incluir el item:\n",
    "     - Compara el valor actual en la tabla con el valor que se obtendría al incluir el item actual\n",
    "     - Actualiza la tabla con el máximo de estos dos valores\n",
    "\n",
    "3. Al final, `lookup_table[-1]` contiene el valor máximo que se puede obtener con la capacidad total de la mochila.\n",
    "\n",
    "La clave de esta implementación es el recorrido en orden inverso de las capacidades, lo que permite usar un solo array en lugar de una matriz bidimensional, optimizando el espacio requerido a O(W) en lugar de O(n×W).\n",
    "\n",
    "Esta solución tiene una complejidad temporal de O(n×W), donde n es el número de items y W es la capacidad máxima de la mochila."
   ]
  },
  {
   "cell_type": "markdown",
   "metadata": {
    "graffitiCellId": "id_73a9skj"
   },
   "source": [
    "### Test - Let's test your function"
   ]
  },
  {
   "cell_type": "code",
   "execution_count": 11,
   "metadata": {
    "graffitiCellId": "id_2t8k6dk"
   },
   "outputs": [],
   "source": [
    "tests = [\n",
    "    {\n",
    "        'correct_output': 14,\n",
    "        'input':\n",
    "            {\n",
    "                'knapsack_max_weight': 15,\n",
    "                'items': [Item(10, 7), Item(9, 8), Item(5, 6)]}},\n",
    "    {\n",
    "        'correct_output': 13,\n",
    "        'input':\n",
    "            {\n",
    "                'knapsack_max_weight': 25,\n",
    "                'items': [Item(10, 2), Item(29, 10), Item(5, 7), Item(5, 3), Item(5, 1), Item(24, 12)]}}]\n",
    "for test in tests:\n",
    "    assert test['correct_output'] == knapsack_max_value(**test['input'])"
   ]
  }
 ],
 "metadata": {
  "graffiti": {
   "firstAuthorId": "dev",
   "id": "id_c8cwdgc",
   "language": "EN"
  },
  "kernelspec": {
   "display_name": "Python 3",
   "language": "python",
   "name": "python3"
  },
  "language_info": {
   "codemirror_mode": {
    "name": "ipython",
    "version": 3
   },
   "file_extension": ".py",
   "mimetype": "text/x-python",
   "name": "python",
   "nbconvert_exporter": "python",
   "pygments_lexer": "ipython3",
   "version": "3.11.6"
  }
 },
 "nbformat": 4,
 "nbformat_minor": 2
}
