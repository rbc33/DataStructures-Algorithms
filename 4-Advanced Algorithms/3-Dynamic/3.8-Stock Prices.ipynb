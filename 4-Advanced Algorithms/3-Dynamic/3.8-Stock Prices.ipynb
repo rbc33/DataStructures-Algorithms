{
 "cells": [
  {
   "cell_type": "markdown",
   "metadata": {
    "collapsed": true,
    "graffitiCellId": "id_qto2uz2"
   },
   "source": [
    "You are given access to yesterday's stock prices for a single stock. The data is in the form of an array with the stock price in 30 minute intervals from 9:30 a.m EST opening to 4:00 p.m EST closing time. With this data, write a function that returns the maximum profit obtainable. You will need to buy before you can sell.\n",
    "\n",
    "For example, suppose you have the following prices:\n",
    "\n",
    "`prices = [3, 4, 7, 8, 6]`\n",
    "\n",
    ">Note: This is a shortened array, just for the sake of example—a full set of prices for the day would have 13 elements (one price for each 30 minute interval betwen 9:30 and 4:00), as seen in the test cases further down in this notebook.\n",
    "\n",
    "In order to get the maximum profit in this example, you would want to buy at a price of 3 and sell at a price of 8 to yield a maximum profit of 5. In other words, you are looking for the greatest possible difference between two numbers in the array.\n",
    "\n",
    "\n",
    "### The Idea\n",
    "The given array has the prices of a single stock at 13 different timestamps. The idea is to pick two timestamps:\n",
    "\"buy_at_min\" and \"sell_at_max\" such that the buy is made before a sell. We will use two pairs of indices while traversing the array: \n",
    "* **Pair 1** - This pair keeps track of our maximum profit while iterating over the list. It is done by storing a pair of indices - `min_price_index`, and `max_price_index`. \n",
    "* **Pair 2** -  This pair keeps track of the profit between the lowest price seen so far and the current price while traversing the array. The lowest price seen so far is maintained with `current_min_price_index`.\n",
    "\n",
    "At each step we will make the greedy choice by choosing prices such that our profit is maximum. We will store the **maximum of either of the two profits mentioned above**. \n",
    "\n",
    "  \n",
    "    \n",
    "\n",
    "### Exercise - Write the function definition here\n",
    "Fill out the function below and run it against the test cases. Take into consideration the time complexity of your solution. "
   ]
  },
  {
   "cell_type": "markdown",
   "metadata": {
    "graffitiCellId": "id_pv982ru"
   },
   "source": [
    "# Stock Prices"
   ]
  },
  {
   "cell_type": "code",
   "execution_count": 13,
   "metadata": {},
   "outputs": [],
   "source": [
    "def max_returns(arr):\n",
    "    \"\"\"\n",
    "    Calculate maxiumum possible return\n",
    "    \n",
    "    Args:\n",
    "       prices(array): array of prices\n",
    "    Returns:\n",
    "       int: The maximum profit possible\n",
    "    \"\"\"\n",
    "    min_i = 0\n",
    "    max_i = 0\n",
    "    cmi = 0\n",
    "    max_delta = 0\n",
    "    for i, val_i in enumerate(arr): \n",
    "      if arr[i] < arr[cmi]:\n",
    "         cmi = i\n",
    "      if arr[max_i] - arr[min_i] < arr[i] - arr[cmi]:\n",
    "         max_i = i\n",
    "         min_i = cmi\n",
    "     \n",
    "         \n",
    "\n",
    "      \n",
    "    return prices[max_i]- prices[min_i]"
   ]
  },
  {
   "cell_type": "code",
   "execution_count": null,
   "metadata": {
    "graffitiCellId": "id_z7ws71z"
   },
   "outputs": [],
   "source": [
    "def max_returns(prices):\n",
    "    \"\"\"\n",
    "    Calculate maxiumum possible return\n",
    "    \n",
    "    Args:\n",
    "       prices(array): array of prices\n",
    "    Returns:\n",
    "       int: The maximum profit possible\n",
    "    \"\"\"\n",
    "    max_delta = 0\n",
    "    L = [[0 for x in range(len(prices))] for x in range(len(prices))]\n",
    "    for i, val_i in enumerate(prices): \n",
    "      for j, val_j in enumerate(prices):\n",
    "         L[i][j] = val_j - val_i\n",
    "\n",
    "    for i, val_i in enumerate(L):\n",
    "      for val_j in val_i:\n",
    "         if max_delta < val_j:\n",
    "            max_delta = val_j\n",
    "\n",
    "    return max_delta"
   ]
  },
  {
   "cell_type": "markdown",
   "metadata": {},
   "source": [
    "Tu solución y la solución anterior abordan el mismo problema de encontrar el máximo beneficio en la compra y venta de acciones, pero con enfoques muy diferentes:\n",
    "\n",
    "### Tu solución:\n",
    "- Crea una matriz completa de todas las posibles diferencias de precios (O(n²) en tiempo y espacio)\n",
    "- Calcula la diferencia entre cada par de precios, incluso aquellos donde se vendería antes de comprar\n",
    "- Busca el valor máximo en toda la matriz\n",
    "### La otra solución:\n",
    "- Utiliza un enfoque de un solo recorrido (O(n) en tiempo, O(1) en espacio)\n",
    "- Mantiene un seguimiento del índice de precio mínimo y actualiza el beneficio máximo\n",
    "- Solo considera escenarios válidos donde la venta ocurre después de la compra\n",
    "La principal diferencia es la eficiencia:\n",
    "\n",
    "- Tu solución requiere mucha más memoria y tiempo de procesamiento\n",
    "- La otra solución es más óptima al hacer un solo recorrido y usar variables de seguimiento\n",
    "Para conjuntos de datos grandes, la solución de un solo recorrido sería significativamente más rápida y usaría mucha menos memoria que la solución matricial."
   ]
  },
  {
   "cell_type": "markdown",
   "metadata": {
    "graffitiCellId": "id_uc722im"
   },
   "source": [
    "<span class=\"graffiti-highlight graffiti-id_uc722im-id_o4cterg\"><i></i><button>Hide Solution</button></span>"
   ]
  },
  {
   "cell_type": "code",
   "execution_count": null,
   "metadata": {},
   "outputs": [],
   "source": [
    "def max_return(arr):\n",
    "    min_price_index = 0\n",
    "    max_price_index = 1\n",
    "    current_min_price_index = 0\n",
    "\n",
    "    if len(arr) < 2:\n",
    "        return \n",
    "    for i in range(1, len(arr)):\n",
    "        if arr[i] < arr[current_min_price_index]:\n",
    "            current_min_price_index = i \n",
    "            \n",
    "        if arr[max_price_index]- arr[min_price_index] < arr[i] - arr[current_min_price_index]:\n",
    "            max_price_index = i\n",
    "            min_price_index = current_min_price_index\n",
    "        max_profit = arr[max_price_index]- arr[min_price_index]\n",
    "        \n",
    "    return max_profit"
   ]
  },
  {
   "cell_type": "code",
   "execution_count": null,
   "metadata": {
    "graffitiCellId": "id_o4cterg"
   },
   "outputs": [],
   "source": [
    "# Solution\n",
    "\n",
    "def max_returns(arr):\n",
    "    min_price_index = 0\n",
    "    max_price_index = 1\n",
    "    current_min_price_index = 0\n",
    "    \n",
    "    if len(arr) < 2:\n",
    "        return\n",
    "    \n",
    "    for index in range(1, len(arr)):\n",
    "        # current minimum price\n",
    "        if arr[index] < arr[current_min_price_index]:\n",
    "            current_min_price_index = index\n",
    "        # current max profit\n",
    "        if arr[max_price_index] - arr[min_price_index] < arr[index] - arr[current_min_price_index]:\n",
    "            max_price_index = index\n",
    "            min_price_index = current_min_price_index\n",
    "    max_profit = arr[max_price_index] - arr[min_price_index]\n",
    "    return max_profit"
   ]
  },
  {
   "cell_type": "markdown",
   "metadata": {},
   "source": [
    "Esta solución resuelve el problema de encontrar el máximo beneficio posible en la compra y venta de acciones, pero lo hace de manera ineficiente.\n",
    "\n",
    "Aquí está cómo funciona:\n",
    "\n",
    "1. Crea una matriz bidimensional L donde cada celda L[i][j] representa la ganancia que se obtendría comprando al precio prices[i] y vendiendo al precio prices[j] .\n",
    "2. Llena esta matriz calculando la diferencia entre cada par posible de precios ( val_j - val_i ).\n",
    "3. Luego recorre toda la matriz para encontrar el valor máximo ( max_delta ), que representa la mayor ganancia posible.\n",
    "4. Finalmente, devuelve este valor máximo.\n",
    "El problema con esta implementación es que tiene una complejidad temporal de O(n²) debido a los bucles anidados, y una complejidad espacial también de O(n²) por la matriz. Además, no tiene en cuenta que solo se puede vender después de comprar (es decir, debería considerar solo los casos donde j > i).\n",
    "\n",
    "Una solución más eficiente sería la que viste anteriormente, que resuelve el problema en una sola pasada con complejidad O(n)."
   ]
  },
  {
   "cell_type": "markdown",
   "metadata": {
    "graffitiCellId": "id_nltrcf9"
   },
   "source": [
    "### Test - Let's test your function"
   ]
  },
  {
   "cell_type": "code",
   "execution_count": 11,
   "metadata": {
    "graffitiCellId": "id_plirn7n"
   },
   "outputs": [],
   "source": [
    "# Test Cases\n",
    "def test_function(test_case):\n",
    "    prices = test_case[0]\n",
    "    solution = test_case[1]\n",
    "    output = max_returns(prices)\n",
    "    if output == solution:\n",
    "        print(\"Pass\")\n",
    "    else:\n",
    "        print(\"Fail\")"
   ]
  },
  {
   "cell_type": "code",
   "execution_count": 14,
   "metadata": {},
   "outputs": [
    {
     "name": "stdout",
     "output_type": "stream",
     "text": [
      "Pass\n"
     ]
    }
   ],
   "source": [
    "prices = [2, 2, 7, 9, 9, 12, 18, 23, 34, 37, 45, 54, 78]\n",
    "solution = 76\n",
    "test_case = [prices, solution]\n",
    "test_function(test_case)"
   ]
  },
  {
   "cell_type": "code",
   "execution_count": 6,
   "metadata": {},
   "outputs": [
    {
     "name": "stdout",
     "output_type": "stream",
     "text": [
      "Pass\n"
     ]
    }
   ],
   "source": [
    "prices = [54, 18, 37, 9, 11, 48, 23, 1, 7, 34, 2, 45, 67]\n",
    "solution = 66\n",
    "test_case = [prices, solution]\n",
    "test_function(test_case)"
   ]
  },
  {
   "cell_type": "code",
   "execution_count": 13,
   "metadata": {},
   "outputs": [
    {
     "name": "stdout",
     "output_type": "stream",
     "text": [
      "Fail\n"
     ]
    }
   ],
   "source": [
    "prices = [78, 54, 45, 37, 34, 23, 18, 12, 9, 9, 7, 2, 2]\n",
    "solution = 0\n",
    "test_case = [prices, solution]\n",
    "test_function(test_case)"
   ]
  }
 ],
 "metadata": {
  "graffiti": {
   "firstAuthorId": "10694620118",
   "id": "id_43ea6fg",
   "language": "EN"
  },
  "kernelspec": {
   "display_name": "Python 3",
   "language": "python",
   "name": "python3"
  },
  "language_info": {
   "codemirror_mode": {
    "name": "ipython",
    "version": 3
   },
   "file_extension": ".py",
   "mimetype": "text/x-python",
   "name": "python",
   "nbconvert_exporter": "python",
   "pygments_lexer": "ipython3",
   "version": "3.11.6"
  },
  "widgets": {
   "state": {},
   "version": "1.1.2"
  }
 },
 "nbformat": 4,
 "nbformat_minor": 2
}
