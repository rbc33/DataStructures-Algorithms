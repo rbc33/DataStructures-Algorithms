{
 "cells": [
  {
   "cell_type": "code",
   "execution_count": 6,
   "metadata": {},
   "outputs": [
    {
     "name": "stdout",
     "output_type": "stream",
     "text": [
      "Nodos en el grafo:\n"
     ]
    },
    {
     "ename": "AttributeError",
     "evalue": "'Graph' object has no attribute '_node'",
     "output_type": "error",
     "traceback": [
      "\u001b[0;31m---------------------------------------------------------------------------\u001b[0m",
      "\u001b[0;31mAttributeError\u001b[0m                            Traceback (most recent call last)",
      "Cell \u001b[0;32mIn[6], line 11\u001b[0m\n\u001b[1;32m      9\u001b[0m \u001b[38;5;66;03m# Extraer información básica de los nodos\u001b[39;00m\n\u001b[1;32m     10\u001b[0m \u001b[38;5;28mprint\u001b[39m(\u001b[38;5;124m\"\u001b[39m\u001b[38;5;124mNodos en el grafo:\u001b[39m\u001b[38;5;124m\"\u001b[39m)\n\u001b[0;32m---> 11\u001b[0m nodes \u001b[38;5;241m=\u001b[39m \u001b[38;5;28;43mlist\u001b[39;49m\u001b[43m(\u001b[49m\u001b[43mG\u001b[49m\u001b[43m)\u001b[49m\n\u001b[1;32m     12\u001b[0m \u001b[38;5;28mprint\u001b[39m(\u001b[38;5;124mf\u001b[39m\u001b[38;5;124m\"\u001b[39m\u001b[38;5;124mNúmero de nodos: \u001b[39m\u001b[38;5;132;01m{\u001b[39;00m\u001b[38;5;28mlen\u001b[39m(nodes)\u001b[38;5;132;01m}\u001b[39;00m\u001b[38;5;124m\"\u001b[39m)\n\u001b[1;32m     13\u001b[0m \u001b[38;5;28mprint\u001b[39m(\u001b[38;5;124mf\u001b[39m\u001b[38;5;124m\"\u001b[39m\u001b[38;5;124mNodos: \u001b[39m\u001b[38;5;132;01m{\u001b[39;00mnodes\u001b[38;5;132;01m}\u001b[39;00m\u001b[38;5;124m\"\u001b[39m)\n",
      "File \u001b[0;32m~/code/DataStr/4-Advanced Algorithms/project/venv/lib/python3.10/site-packages/networkx/classes/graph.py:418\u001b[0m, in \u001b[0;36mGraph.__iter__\u001b[0;34m(self)\u001b[0m\n\u001b[1;32m    402\u001b[0m \u001b[38;5;28;01mdef\u001b[39;00m\u001b[38;5;250m \u001b[39m\u001b[38;5;21m__iter__\u001b[39m(\u001b[38;5;28mself\u001b[39m):\n\u001b[1;32m    403\u001b[0m \u001b[38;5;250m    \u001b[39m\u001b[38;5;124;03m\"\"\"Iterate over the nodes. Use: 'for n in G'.\u001b[39;00m\n\u001b[1;32m    404\u001b[0m \n\u001b[1;32m    405\u001b[0m \u001b[38;5;124;03m    Returns\u001b[39;00m\n\u001b[0;32m   (...)\u001b[0m\n\u001b[1;32m    416\u001b[0m \u001b[38;5;124;03m    [0, 1, 2, 3]\u001b[39;00m\n\u001b[1;32m    417\u001b[0m \u001b[38;5;124;03m    \"\"\"\u001b[39;00m\n\u001b[0;32m--> 418\u001b[0m     \u001b[38;5;28;01mreturn\u001b[39;00m \u001b[38;5;28miter\u001b[39m(\u001b[38;5;28;43mself\u001b[39;49m\u001b[38;5;241;43m.\u001b[39;49m\u001b[43m_node\u001b[49m)\n",
      "\u001b[0;31mAttributeError\u001b[0m: 'Graph' object has no attribute '_node'"
     ]
    }
   ],
   "source": [
    "import pickle\n",
    "import networkx as nx\n",
    "import matplotlib.pyplot as plt\n",
    "\n",
    "# Load the map directly\n",
    "with open('map-10.pickle', 'rb') as f:\n",
    "    G = pickle.load(f)\n",
    "\n",
    "# Extraer información básica de los nodos\n",
    "print(\"Nodos en el grafo:\")\n",
    "nodes = list(G)\n",
    "print(f\"Número de nodos: {len(nodes)}\")\n",
    "print(f\"Nodos: {nodes}\")\n",
    "\n",
    "# Intentar extraer información de conexiones\n",
    "print(\"\\nConexiones:\")\n",
    "for node in nodes:\n",
    "    try:\n",
    "        neighbors = list(G.neighbors(node))\n",
    "        print(f\"Nodo {node} conectado a: {neighbors}\")\n",
    "    except Exception as e:\n",
    "        print(f\"No se pudieron obtener vecinos para el nodo {node}: {e}\")\n",
    "\n",
    "# Intentar extraer posiciones de manera más simple\n",
    "pos = {}\n",
    "for i, node in enumerate(nodes):\n",
    "    # Asignar posiciones en círculo como fallback\n",
    "    angle = 2 * 3.14159 * i / len(nodes)\n",
    "    pos[node] = (5 * np.cos(angle), 5 * np.sin(angle))\n",
    "    \n",
    "    # Intentar obtener posición real si existe\n",
    "    try:\n",
    "        if hasattr(G, 'nodes') and 'pos' in G.nodes.get(node, {}):\n",
    "            pos[node] = G.nodes[node]['pos']\n",
    "    except:\n",
    "        pass\n",
    "\n",
    "# Imprimir las posiciones encontradas\n",
    "print(\"\\nPosiciones:\")\n",
    "for node, position in pos.items():\n",
    "    print(f\"Nodo {node}: {position}\")\n",
    "\n",
    "# Intentar dibujar el grafo de manera básica\n",
    "try:\n",
    "    plt.figure(figsize=(8, 8))\n",
    "    nx.draw_networkx(G, pos=pos, with_labels=True, \n",
    "                    node_color='lightblue', \n",
    "                    node_size=500,\n",
    "                    font_size=10,\n",
    "                    font_weight='bold')\n",
    "    plt.title('Visualización básica del grafo')\n",
    "    plt.axis('off')\n",
    "    plt.show()\n",
    "except Exception as e:\n",
    "    print(f\"Error al dibujar el grafo: {e}\")\n",
    "    \n",
    "    # Si falla, intentar dibujar solo los nodos\n",
    "    try:\n",
    "        plt.figure(figsize=(8, 8))\n",
    "        for node, (x, y) in pos.items():\n",
    "            plt.plot(x, y, 'o', markersize=10, color='skyblue')\n",
    "            plt.text(x, y, str(node), fontsize=12)\n",
    "        plt.title('Solo nodos del grafo')\n",
    "        plt.axis('equal')\n",
    "        plt.grid(True)\n",
    "        plt.show()\n",
    "    except Exception as e2:\n",
    "        print(f\"También falló el dibujo básico: {e2}\")"
   ]
  }
 ],
 "metadata": {
  "kernelspec": {
   "display_name": "venv",
   "language": "python",
   "name": "python3"
  },
  "language_info": {
   "codemirror_mode": {
    "name": "ipython",
    "version": 3
   },
   "file_extension": ".py",
   "mimetype": "text/x-python",
   "name": "python",
   "nbconvert_exporter": "python",
   "pygments_lexer": "ipython3",
   "version": "3.10.16"
  }
 },
 "nbformat": 4,
 "nbformat_minor": 2
}
