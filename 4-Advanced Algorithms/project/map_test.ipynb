{
 "cells": [
  {
   "cell_type": "code",
   "execution_count": 3,
   "metadata": {},
   "outputs": [
    {
     "ename": "AttributeError",
     "evalue": "'Graph' object has no attribute '_node'",
     "output_type": "error",
     "traceback": [
      "\u001b[0;31m---------------------------------------------------------------------------\u001b[0m",
      "\u001b[0;31mAttributeError\u001b[0m                            Traceback (most recent call last)",
      "Cell \u001b[0;32mIn[3], line 12\u001b[0m\n\u001b[1;32m     10\u001b[0m pos \u001b[38;5;241m=\u001b[39m {}\n\u001b[1;32m     11\u001b[0m \u001b[38;5;66;03m# Método más robusto para extraer posiciones\u001b[39;00m\n\u001b[0;32m---> 12\u001b[0m \u001b[38;5;28;01mfor\u001b[39;00m node \u001b[38;5;129;01min\u001b[39;00m \u001b[38;5;28;43mlist\u001b[39;49m\u001b[43m(\u001b[49m\u001b[43mG\u001b[49m\u001b[43m)\u001b[49m:  \u001b[38;5;66;03m# Usar list(G) en lugar de G.nodes()\u001b[39;00m\n\u001b[1;32m     13\u001b[0m     \u001b[38;5;28;01mtry\u001b[39;00m:\n\u001b[1;32m     14\u001b[0m         \u001b[38;5;66;03m# Intentar diferentes métodos para acceder a las posiciones\u001b[39;00m\n\u001b[1;32m     15\u001b[0m         \u001b[38;5;28;01mtry\u001b[39;00m:\n",
      "File \u001b[0;32m~/code/DataStr/4-Advanced Algorithms/project/venv/lib/python3.10/site-packages/networkx/classes/graph.py:418\u001b[0m, in \u001b[0;36mGraph.__iter__\u001b[0;34m(self)\u001b[0m\n\u001b[1;32m    402\u001b[0m \u001b[38;5;28;01mdef\u001b[39;00m\u001b[38;5;250m \u001b[39m\u001b[38;5;21m__iter__\u001b[39m(\u001b[38;5;28mself\u001b[39m):\n\u001b[1;32m    403\u001b[0m \u001b[38;5;250m    \u001b[39m\u001b[38;5;124;03m\"\"\"Iterate over the nodes. Use: 'for n in G'.\u001b[39;00m\n\u001b[1;32m    404\u001b[0m \n\u001b[1;32m    405\u001b[0m \u001b[38;5;124;03m    Returns\u001b[39;00m\n\u001b[0;32m   (...)\u001b[0m\n\u001b[1;32m    416\u001b[0m \u001b[38;5;124;03m    [0, 1, 2, 3]\u001b[39;00m\n\u001b[1;32m    417\u001b[0m \u001b[38;5;124;03m    \"\"\"\u001b[39;00m\n\u001b[0;32m--> 418\u001b[0m     \u001b[38;5;28;01mreturn\u001b[39;00m \u001b[38;5;28miter\u001b[39m(\u001b[38;5;28;43mself\u001b[39;49m\u001b[38;5;241;43m.\u001b[39;49m\u001b[43m_node\u001b[49m)\n",
      "\u001b[0;31mAttributeError\u001b[0m: 'Graph' object has no attribute '_node'"
     ]
    }
   ],
   "source": [
    "import pickle\n",
    "import networkx as nx\n",
    "import matplotlib.pyplot as plt\n",
    "\n",
    "# Load the map directly\n",
    "with open('map-10.pickle', 'rb') as f:\n",
    "    G = pickle.load(f)\n",
    "\n",
    "# Extract positions\n",
    "pos = {}\n",
    "# Método más robusto para extraer posiciones\n",
    "for node in list(G):  # Usar list(G) en lugar de G.nodes()\n",
    "    try:\n",
    "        # Intentar diferentes métodos para acceder a las posiciones\n",
    "        try:\n",
    "            pos[node] = G.nodes[node]['pos']\n",
    "        except:\n",
    "            try:\n",
    "                pos[node] = G.node[node]['pos']\n",
    "            except:\n",
    "                # Si no podemos encontrar la posición, usar el índice como posición\n",
    "                pos[node] = (node, node)\n",
    "    except Exception as e:\n",
    "        print(f\"Error con nodo {node}: {e}\")\n",
    "        pos[node] = (node, node)\n",
    "\n",
    "# Draw the graph using NetworkX and matplotlib\n",
    "plt.figure(figsize=(10, 10))\n",
    "nx.draw(G, pos=pos, with_labels=True, node_size=500, node_color='skyblue')\n",
    "plt.title('Map-10 Visualization')\n",
    "plt.show()\n",
    "\n",
    "# Implementación básica de shortest_path para pruebas\n",
    "def shortest_path(map_data, start, goal):\n",
    "    # Implementación simple usando el algoritmo de Dijkstra de NetworkX\n",
    "    try:\n",
    "        return nx.dijkstra_path(map_data, start, goal)\n",
    "    except:\n",
    "        # Si falla, devolver un camino directo\n",
    "        return [start, goal]\n",
    "\n",
    "# Test it\n",
    "try:\n",
    "    path = shortest_path(G, 0, 5)\n",
    "    print(f\"Path from 0 to 5: {path}\")\n",
    "except Exception as e:\n",
    "    print(f\"Error al calcular el camino: {e}\")"
   ]
  }
 ],
 "metadata": {
  "kernelspec": {
   "display_name": "venv",
   "language": "python",
   "name": "python3"
  },
  "language_info": {
   "codemirror_mode": {
    "name": "ipython",
    "version": 3
   },
   "file_extension": ".py",
   "mimetype": "text/x-python",
   "name": "python",
   "nbconvert_exporter": "python",
   "pygments_lexer": "ipython3",
   "version": "3.10.16"
  }
 },
 "nbformat": 4,
 "nbformat_minor": 2
}
