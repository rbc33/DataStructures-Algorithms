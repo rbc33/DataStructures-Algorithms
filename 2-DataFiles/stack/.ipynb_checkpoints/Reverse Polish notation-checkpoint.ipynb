{
 "cells": [
  {
   "cell_type": "markdown",
   "metadata": {
    "graffitiCellId": "id_ckuzd96"
   },
   "source": [
    "## Reverse Polish Notation\n",
    "\n",
    "**Reverse Polish Notation (RPN)**, also referred to as **Polish postfix notation**, is a mathematical notation in which every operator follows all of its operands. This is the defining characteristic of postfix notation and differentiates it from infix notation, where operators are placed between operands.\n",
    "\n",
    "### Explanation of RPN\n",
    "\n",
    "When making mathematical expressions, we typically put arithmetic operators (like `+`, `-`, `*`, and `/`) *between* operands. This is known as infix notation. For example: \n",
    "\n",
    "- Infix: `5 + 7 - 3 * 8`\n",
    "\n",
    "However, in Reverse Polish Notation, the operators come *after* the operands. This means that each operator applies to the immediately preceding operands. For example:\n",
    "\n",
    "- RPN: `3 1 + 4 *`\n",
    "\n",
    "The above RPN expression is evaluated as follows:\n",
    "\n",
    "1. `3 1 +`: Add 3 and 1 to get 4.\n",
    "2. `4 *`: Multiply the result (4) by 4 to get 16.\n",
    "\n",
    "Thus, the final result of this expression is `16`.\n",
    "\n",
    "### Advantages of RPN\n",
    "\n",
    "- **Simplifies Parsing**: RPN eliminates the need for parentheses to manage operation precedence, making parsing expressions straightforward and efficient. Each operation is performed immediately as its operands become available.\n",
    "\n",
    "- **Faster Evaluation**: RPN expressions can be directly executed by computers using stack-based algorithms, which are well-suited for handling the last-in, first-out (LIFO) order of operations. This means there's no need to convert expressions into another form to determine operation order, which can speed up computation.\n",
    "\n",
    "- **Less Ambiguity**: The order of operations is explicit in RPN, reducing potential errors in interpretation and ensuring calculations are carried out in a predictable manner. This makes RPN particularly useful in applications like calculators and expression evaluators.\n",
    "\n",
    "**Note**: In Python 3, the division operator `/` performs float division. For this problem, if you want to perform integer division, you should use the `//` operator to directly obtain an integer result without needing additional conversion with `int()`."
   ]
  },
  {
   "cell_type": "code",
   "execution_count": null,
   "metadata": {
    "graffitiCellId": "id_ukl3cva"
   },
   "outputs": [],
   "source": [
    "class LinkedListNode:\n",
    "\n",
    "    def __init__(self, data):\n",
    "        self.data = data\n",
    "        self.next = None\n",
    "\n",
    "class Stack:\n",
    "\n",
    "    def __init__(self):\n",
    "        self.num_elements = 0\n",
    "        self.head = None\n",
    "\n",
    "    def push(self, data):\n",
    "        new_node = LinkedListNode(data)\n",
    "        if self.head is None:\n",
    "            self.head = new_node\n",
    "        else:\n",
    "            new_node.next = self.head\n",
    "            self.head = new_node\n",
    "        self.num_elements += 1\n",
    "\n",
    "    def pop(self):\n",
    "        if self.is_empty():\n",
    "            return None\n",
    "        temp = self.head.data\n",
    "        self.head = self.head.next\n",
    "        self.num_elements -= 1\n",
    "        return temp\n",
    "\n",
    "    def top(self):\n",
    "        if self.head is None:\n",
    "            return None\n",
    "        return self.head.data\n",
    "\n",
    "    def size(self):\n",
    "        return self.num_elements\n",
    "\n",
    "    def is_empty(self):\n",
    "        return self.num_elements == 0\n"
   ]
  },
  {
   "cell_type": "code",
   "execution_count": null,
   "metadata": {
    "graffitiCellId": "id_tgdzgoq"
   },
   "outputs": [],
   "source": [
    "def evaluate_post_fix(input_list):\n",
    "    \"\"\"\n",
    "    Evaluate the postfix expression to find the answer\n",
    "\n",
    "    Args:\n",
    "       input_list(list): List containing the postfix expression\n",
    "    Returns:\n",
    "       int: Postfix expression solution\n",
    "    \"\"\"\n",
    "    # TODO: Iterate over elements \n",
    "    \n",
    "    # TODO: Use stacks to control the element positions\n",
    "    \n",
    "    pass"
   ]
  },
  {
   "cell_type": "code",
   "execution_count": null,
   "metadata": {
    "graffitiCellId": "id_jtoxj0x"
   },
   "outputs": [],
   "source": [
    "def test_function(test_case):\n",
    "    output = evaluate_post_fix(test_case[0])\n",
    "    print(output)\n",
    "    if output == test_case[1]:\n",
    "        print(\"Pass\")\n",
    "    else:\n",
    "        print(\"Fail\")"
   ]
  },
  {
   "cell_type": "code",
   "execution_count": null,
   "metadata": {
    "graffitiCellId": "id_9sqctfc"
   },
   "outputs": [],
   "source": [
    "test_case_1 = [[\"3\", \"1\", \"+\", \"4\", \"*\"], 16]\n",
    "\n",
    "test_function(test_case_1)"
   ]
  },
  {
   "cell_type": "code",
   "execution_count": null,
   "metadata": {
    "graffitiCellId": "id_19vblle"
   },
   "outputs": [],
   "source": [
    "test_case_2 = [[\"4\", \"13\", \"5\", \"/\", \"+\"], 6]\n",
    "test_function(test_case_2)"
   ]
  },
  {
   "cell_type": "code",
   "execution_count": null,
   "metadata": {
    "graffitiCellId": "id_q5atimj"
   },
   "outputs": [],
   "source": [
    "test_case_3 = [[\"10\", \"6\", \"9\", \"3\", \"+\", \"-11\", \"*\", \"/\", \"*\", \"17\", \"+\", \"5\", \"+\"], 12]\n",
    "test_function(test_case_3)"
   ]
  },
  {
   "cell_type": "markdown",
   "metadata": {
    "graffitiCellId": "id_wble8ty"
   },
   "source": [
    "<span class=\"graffiti-highlight graffiti-id_wble8ty-id_56fruru\"><i></i><button>Show Solution</button></span>"
   ]
  }
 ],
 "metadata": {
  "graffiti": {
   "firstAuthorId": "10694620118",
   "id": "id_mokjq6m",
   "language": "EN"
  },
  "kernelspec": {
   "display_name": "Python 3",
   "language": "python",
   "name": "python3"
  },
  "language_info": {
   "codemirror_mode": {
    "name": "ipython",
    "version": 3
   },
   "file_extension": ".py",
   "mimetype": "text/x-python",
   "name": "python",
   "nbconvert_exporter": "python",
   "pygments_lexer": "ipython3",
   "version": "3.6.3"
  }
 },
 "nbformat": 4,
 "nbformat_minor": 2
}
